{
  "cells": [
    {
      "cell_type": "markdown",
      "metadata": {
        "id": "AS4Gmn1MUSGu"
      },
      "source": [
        "# Conceitos, frameworks e aplicações de IA generativa: RAG, Bancos de Dados Vetoriais, Alucinações e Engenharia de Prompts"
      ]
    },
    {
      "cell_type": "markdown",
      "metadata": {
        "id": "deosYYoxZM_6"
      },
      "source": [
        "Esse notebook faz parte do workshop Conceitos, frameworks e aplicações de IA generativa: RAG, Bancos de Dados Vetoriais, Alucinações e Engenharia de Prompts apresentado no TDC Summit IA Brasília por Ivan Viragine.\n",
        "\n",
        "**Agenda**\n",
        "\n",
        "1. Base conceitual\n",
        "2. Objetivo\n",
        "3. Mãos na massa\n",
        "4. Projeto\n",
        "5. Material complementar"
      ]
    },
    {
      "cell_type": "markdown",
      "metadata": {},
      "source": [
        "## Base conceitual\n",
        "\n",
        "### **LLM**\n",
        "\n",
        "Large Language Models (LLMs - modelos grandes de linguagem) são modelos de linguagem que são treinados em grandes quantidades de textos para prever os próximos tokens (entenda: palavra(s)) a partir de uma sequência de textos (entenda: frase(s)).\n",
        "- Exemplo: \"O céu é ___\" -> \"azul\", \"lindo\", \"estrelado\", etc.\n",
        "\n",
        "<p align=\"center\">\n",
        "    <img src=\"llm.jpg\" width=\"500\"/>\n",
        "</p>\n",
        "\n",
        "### **Generative AI**\n",
        "\n",
        "Generative AI (GenAI - IA generativa) é uma área da Inteligência Artificial que se concentra em gerar novos dados a partir de um conjunto de dados de treinamento. LLMs são um exemplo de GenAI.\n",
        "\n",
        "A Inteligência Artificial \"não generativa\" faz predições com base em dados de entrada, enquanto a GenAI gera novos dados com base em dados de entrada.\n",
        "- Exemplo: uma IA não generativa pode prever se uma imagem é um gato ou um cachorro\n",
        "\n",
        "<p align=\"center\">\n",
        "    <img src=\"ai.jpg\" height=\"500\"/>\n",
        "</p>\n",
        "\n",
        "- Exemplo: uma IA generativa pode criar uma imagem de um gato ou um cachorro.\n",
        "\n",
        "<p align=\"center\">\n",
        "    <img src=\"genai.jpg\" height=\"500\"/>\n",
        "</p>\n",
        "\n",
        "### **Treinamento**\n",
        "\n",
        "O treinamento de modelos de IA normalmente é realizado com o ajuste do modelo para que dada uma entrada (texto, imagem, áudio...) seja gerada uma ou mais saídas. Para tal, um conjunto bem grande de exemplos é utilizado para que o modelo possa aprender a generalizar e fazer predições em novos exemplos.\n",
        "- Exemplo: diversas resenhas de um produto e seus sentimentos entre \"positivo\", \"neutro\" e \"negativo\" são utilizadas para treinar um modelo de análise de sentimentos. O modelo aprende a associar palavras e frases com sentimentos e pode ser utilizado para prever o sentimento de novas resenhas.\n",
        "\n",
        "<p align=\"center\">\n",
        "    <img src=\"treinamento1.jpg\" width=\"500\"/>\n",
        "</p>\n",
        "\n",
        "No caso de LLMs, o treinamento é feito com um volume muito maior e variado de textos para que o modelo possa prever o próximo token de uma sequência de tokens.\n",
        "- Exemplo: em seus dados de treinamento uma LLM pode ver frases como \"O céu é azul\", \"O céu é lindo\", \"O céu é estrelado\", etc. e aprender a prever as palavras mais prováveis após \"O céu é\" (contexto).\n",
        "\n",
        "<p align=\"center\">\n",
        "    <img src=\"treinamento2.jpg\" width=\"500\"/>\n",
        "</p>\n",
        "\n",
        "No primeiro exemplo, os dados são previamente rotulados, ou seja, há uma associação direta entre o input (resenha) e output (sentimento), provavelmente feita por humanos. Esse é um exemplo de aprendizado supervisionado (supervised learning).\n",
        "\n",
        "No segundo exemplo, os **dados** são não supervisionados, ou seja, não há rótulos associados a cada exemplo, o algoritmo de treinamento é que gera exemplos de saída a partir de exemplos de entrada. Esse é um exemplo de aprendizado auto-supervisionado (self-supervised learning).\n",
        "\n",
        "No caso de geração de imagens, dentre diversas técnicas, uma delas visa a detecção de um objeto em uma série de variações da imagem e ruído e posterior geração da imagem original.\n",
        "- Exemplo: no treinamento, ruído é adicionado progressivamente a uma imagem de um carro, e o modelo aprende a reverter o processo de adicionar ruído, gerando uma imagem clara de um carro a partir de ruído.\n",
        "\n",
        "<p align=\"center\">\n",
        "    <img src=\"diffusion.png\" width=\"500\"/>\n",
        "</p>\n",
        "<small>\n",
        "    <p align=\"center\">\n",
        "        Qiyan, J. (2024). Image from Generative AI: Risks & Benefits (S0-L08). Generative AI: Risks & Benefits Course.\n",
        "    </p>\n",
        "</small>\n",
        "\n",
        "\n",
        "### **Prompt**\n",
        "\n",
        "Um prompt é um texto que descreve uma tarefa ou uma pergunta que um modelo de IA deve responder. O prompt é a **entrada** para o modelo e é utilizado para gerar uma saída.\n",
        "- Exemplo: \"Escreva um texto sobre o impacto da IA na sociedade utilizando uma linguagem informal.\" é um prompt que fará com que o modelo escreva um texto sobre o impacto da IA na sociedade utilizando uma linguagem informal.\n",
        "- Exemplo: \"O que é um cachorro?\" é um prompt que fará com que o modelo descreva o que é um cachorro."
      ]
    },
    {
      "cell_type": "markdown",
      "metadata": {},
      "source": [
        "## Objetivo\n",
        "\n",
        "Iremos utilizar um modelo de LLM para nos responder perguntas sobre as **Olimpíadas de Paris de 2024**.\n",
        "\n",
        "Apesar de ser um assunto conhecido, por ser bem **recente**, enfrentaremos alguns desafios e iremos *iterativamente* adicionando e aprendendo conceitos e os porquês de cada passo e conceito até conseguirmos uma resposta satisfatória e cobrirmos os conceitos básicos em um processo RAG.\n",
        "\n",
        "<p align=\"center\">\n",
        "    <img src=\"meta.jpg\" height=\"500\"/>\n",
        "</p>\n",
        "<small>\n",
        "    <p align=\"center\">\n",
        "        O modelo da Meta não soube responder corretamente!\n",
        "    </p>\n",
        "</small>"
      ]
    },
    {
      "cell_type": "markdown",
      "metadata": {},
      "source": [
        "## Mãos na massa"
      ]
    },
    {
      "cell_type": "markdown",
      "metadata": {},
      "source": [
        "### Dependências\n",
        "\n",
        "Abaixo estão as dependências necessárias para rodar o código.\n",
        "- *colab-xterm*: terminal no Google Colab (**não é necessário se rodar localmente**)\n",
        "- *chromadb*: banco de dados vetorial\n",
        "- *pypdf*: leitura de PDFs\n",
        "- *langchain**: framework principal que utilizaremos"
      ]
    },
    {
      "cell_type": "code",
      "execution_count": 1,
      "metadata": {},
      "outputs": [],
      "source": [
        "# !pip install colab-xterm chromadb pypdf langchain-ollama langchain_community langchain-chroma --quiet"
      ]
    },
    {
      "cell_type": "markdown",
      "metadata": {
        "id": "Hh40ydBZah1Z"
      },
      "source": [
        "### Instalação **Ollama**\n",
        "\n",
        "[Ollama](https://ollama.com/) é uma ferramenta que permite a **execução de modelos abertos diretamente em seu host** através de uma interface compatível com OpenAI. Ela permite também execução em CPU e GPU ou somente um dos dois (*a execução em CPU será bem mais lenta que em GPU*), mesmo sendo de simples instalação.\n",
        "\n",
        "*Caso queira utilizar um modelo da OpenAI ou outro, esse passo não é necessário, porém, serão necessárias pequenas adaptações no código.*"
      ]
    },
    {
      "cell_type": "markdown",
      "metadata": {
        "id": "DqMl3Inbbj47"
      },
      "source": [
        "#### Instalação do colab-xterm (somente Google Colab)\n",
        "\n",
        "Para a instalação do Ollama, precisamos ter acesso a VM do Colab, para isso, utilizaremos o colab-xterm, que nos dará acesso a um terminal.\n",
        "\n",
        "*obs.: utilizar comandos com ! e % e nohup/& não são suficientes nesse caso.*"
      ]
    },
    {
      "cell_type": "code",
      "execution_count": 2,
      "metadata": {
        "collapsed": true,
        "id": "f_m9u_fIQ_yk"
      },
      "outputs": [],
      "source": [
        "# %load_ext colabxterm"
      ]
    },
    {
      "cell_type": "markdown",
      "metadata": {
        "id": "AaOBttnCccZG"
      },
      "source": [
        "#### Instalação Ollama e Llama3.2 (3B)\n",
        "\n",
        "A instalação do Ollama é bem simples, basta executarmos os comandos a seguir:\n",
        "1. `curl https://ollama.ai/install.sh | sh`: fará o download do script de instalação e o executará.\n",
        "2. `ollama serve &`: inicia o Ollama\n",
        "  <br/> *Utilizamos \"&\" para executarmos o comando em modo detached, assim poderemos continuar a utilizar o terminal para os próximos comandos*\n",
        "3. `ollama pull llama3.2`: faz o download do modelo Llama 3.2 da Meta\n",
        "  <br/> *A versão padrão é a de 3B parâmetros com quantização de 4 bits*\n",
        "\n",
        "*obs.: para colar o comando no terminal utilize CTRL/CMD + SHIFT + V*"
      ]
    },
    {
      "cell_type": "code",
      "execution_count": 3,
      "metadata": {
        "id": "hxszNyt6RAyk"
      },
      "outputs": [],
      "source": [
        "# %xterm\n",
        " # curl https://ollama.ai/install.sh | sh\n",
        " # ollama serve &\n",
        " # ollama pull llama3.2"
      ]
    },
    {
      "cell_type": "markdown",
      "metadata": {
        "id": "Wyf_nAj7erVp"
      },
      "source": [
        "*Optei pelo Ollama por sua simplicidade, mas aqui poderíamos utilizar qualquer outra ferramenta para servir os modelos, como [vLLM](https://docs.vllm.ai/en/latest/getting_started/quickstart.html) ou até utilizar APIs como as da OpenAI, Anthropic, Azure, AWS Bedrock e etc.*"
      ]
    },
    {
      "cell_type": "markdown",
      "metadata": {
        "id": "zNYxGzJ5f8HT"
      },
      "source": [
        "### Primeira iteração: apenas LLM\n",
        "\n",
        "Vamos perguntar ao modelo sobre a participação do Brasil nas Olimpíadas de Paris de 2024.\n",
        "\n",
        "Nessa fase utilizaremos o framework [LangChain](https://www.langchain.com/), um dos frameworks mais populares para construção de aplicativos com LLMs."
      ]
    },
    {
      "cell_type": "code",
      "execution_count": 1,
      "metadata": {},
      "outputs": [],
      "source": [
        "model_name = \"llama3.2\"\n",
        "\n",
        "temperature = 0.005"
      ]
    },
    {
      "cell_type": "code",
      "execution_count": 2,
      "metadata": {
        "id": "GbdPRFTiR0FB"
      },
      "outputs": [
        {
          "data": {
            "text/markdown": [
              "Olá!\n",
              "\n",
              "Agora, vamos falar sobre as medalhas do Brasil nas últimas Olimpíadas.\n",
              "\n",
              "As Olimpíadas mais recentes foram os Jogos Olímpicos de Verão de 2020, que ocorreram em Tóquio, Japão, e os Jogos Olímpicos de Inverno de 2022, que ocorreram em Pequim, China.\n",
              "\n",
              "Aqui estão as medalhas do Brasil nas últimas Olimpíadas:\n",
              "\n",
              "**Jogos Olímpicos de Verão de 2020 (Tóquio, Japão)**\n",
              "\n",
              "* Total de medalhas: 9\n",
              " + Medalhas de ouro: 7\n",
              " + Medalhas de prata: 1\n",
              " + Medalhas de bronze: 1\n",
              "\n",
              "**Jogos Olímpicos de Inverno de 2022 (Pequim, China)**\n",
              "\n",
              "* Total de medalhas: 0\n",
              "\n",
              "Em resumo, o Brasil conquistou 9 medalhas nas Olimpíadas de Verão de 2020 e nenhuma medalha nas Olimpíadas de Inverno de 2022.\n",
              "\n",
              "Espero que isso tenha ajudado! Se tiver mais alguma pergunta, sinta-se à vontade para perguntar."
            ],
            "text/plain": [
              "<IPython.core.display.Markdown object>"
            ]
          },
          "execution_count": 2,
          "metadata": {},
          "output_type": "execute_result"
        }
      ],
      "source": [
        "from typing import Optional\n",
        "\n",
        "from IPython.display import Markdown\n",
        "from langchain_core.prompts import ChatPromptTemplate\n",
        "from langchain_core.runnables.base import RunnableSequence\n",
        "from langchain_ollama.llms import OllamaLLM\n",
        "\n",
        "\n",
        "def get_response(\n",
        "    chain: RunnableSequence,\n",
        "    question: str,\n",
        "    context: Optional[str] = None,\n",
        "):\n",
        "    \"\"\"Retorna a resposta do modelo com ou sem contexto em markdown\"\"\"\n",
        "\n",
        "    if context:\n",
        "        return Markdown(chain.invoke({\"context\": context, \"question\": question}))\n",
        "    else:\n",
        "        return Markdown(chain.invoke({\"question\": question}))\n",
        "\n",
        "\n",
        "model = OllamaLLM(\n",
        "    model=model_name, temperature=temperature\n",
        ")  # iniciamos o modelo com temperatura baixa, para termos um pouco de previsibilidade nas respostas\n",
        "\n",
        "template = \"\"\"{question}\"\"\"  # o template do prompt é apenas a pergunta\n",
        "prompt = ChatPromptTemplate.from_template(\n",
        "    template\n",
        ")  # iniciamos o objeto de template do LangChain\n",
        "chain = (\n",
        "    prompt | model\n",
        ")  # construímos a chain, que será a construção do prompt e envio para o modelo\n",
        "\n",
        "get_response(\n",
        "    chain=chain, question=\"Quantas medalhas o Brasil ganhou nas últimas olimpíadas\"\n",
        ")"
      ]
    },
    {
      "cell_type": "markdown",
      "metadata": {
        "id": "v0tCTPaziYDc"
      },
      "source": [
        "Vimos que a resposta *não é sobre Paris 2024*. Isso era **esperado**, pois a *data de corte dos dados de treinamento* (cut-off date) desse modelo é de dezembro de 2023 ([veja detalhes](https://github.com/meta-llama/llama-models/blob/main/models/llama3_2/MODEL_CARD.md)).\n",
        "\n",
        "*Pode ser quem em sua execução o modelo tenha até **alucinado** e dado informações erradas.*"
      ]
    },
    {
      "cell_type": "markdown",
      "metadata": {
        "id": "LtvVGLZ5mrmu"
      },
      "source": [
        "### Segunda iteração: Adição de contexto\n",
        "\n",
        "Como essas informações *não estão disponíveis no \"conhecimento\" do modelo* (conhecimento *paramétrico* adquirido no treinamento), devemos prover um conjunto de textos que possam ajudar na resposta."
      ]
    },
    {
      "cell_type": "code",
      "execution_count": 3,
      "metadata": {
        "id": "E5VbvGTJRBBw"
      },
      "outputs": [
        {
          "data": {
            "text/markdown": [
              "O Brasil conquistou 20 medalhas nas Olimpíadas de Paris 2024."
            ],
            "text/plain": [
              "<IPython.core.display.Markdown object>"
            ]
          },
          "execution_count": 3,
          "metadata": {},
          "output_type": "execute_result"
        }
      ],
      "source": [
        "# fonte: https://www.cnnbrasil.com.br/esportes/olimpiadas/resumo-brasil-paris-2024-medalhas-comparacao-outras-edicoes/\n",
        "context = \"\"\"\n",
        "**Brasil fecha Paris 2024 com 20 medalhas; veja comparação com outras edições**\n",
        "\n",
        "Delegação não consegue alcançar os sete ouros conquistados nas Olimpíadas de Tóquio e Rio de Janeiro.\n",
        "\n",
        "Entre celebrações, conquistas improváveis e decepções, o Brasil encerra sua participação na Olimpíada de Paris 2024 com 20 medalhas no total, sendo 3 ouros, 7 pratas e 10 bronzes.\n",
        "\n",
        "Os números ficam abaixo das últimas edições se levarmos em consideração o total de medalhas de ouro. Nas Olimpíadas de Tóquio e Rio de Janeiro, o Brasil bateu seu recorde ao subir no lugar mais alto do pódio em 7 oportunidades.\n",
        "\n",
        "Antes, o recorde era de Atenas 2004, quando 5 medalhas douradas foram garantidas pela delegação brasileira. Em outras edições os números eram mais modestos, com 3 medalhas no máximo.\n",
        "\n",
        "Em 24 participações na história olímpica, o Brasil deixou de ganhar medalha de ouro em 10 edições: Paris 1924, Los Angeles 1932, Berlim 1936, Londres 1948, Roma 1960, Tóquio 1964, Cidade do México 1968, Munique 1972, Montreal 1976 e Sydney 2000.\n",
        "\"\"\"\n",
        "\n",
        "context_template = \"\"\"\n",
        "Considerando o contexto, responda à questão:\n",
        "\n",
        "Contexto:\n",
        "{context}\n",
        "\n",
        "Questão:\n",
        "{question}\n",
        "\"\"\"\n",
        "\n",
        "context_prompt = ChatPromptTemplate.from_template(context_template)\n",
        "context_chain = context_prompt | model\n",
        "\n",
        "get_response(\n",
        "    chain=context_chain,\n",
        "    question=\"Quantas medalhas o Brasil ganhou nas olimpíadas de Paris?\",\n",
        "    context=context,\n",
        ")"
      ]
    },
    {
      "cell_type": "markdown",
      "metadata": {
        "id": "R2xIrmM5qAdx"
      },
      "source": [
        "Com a adição do *contexto* o modelo foi capaz de extrair as informações relevantes e produzir uma **resposta correta**.\n",
        "\n",
        "**Esse é o conceito básico do RAG - Retrieval-Augmented Generation** (ou Geração Aumentada de Recuperação em Português): provemos informações novas (conhecimento extra) para que os modelos sejam capazes de responder às nossas perguntas.\n",
        "\n",
        "**Esse é o caso de uso mais comum de LLMs hoje.**\n",
        "\n",
        "*Aqui utilizamos dados das Olimpíadas, mas pense em dados sobre o uso do seu produto, dados de mercado, dados de pesquisas, dados de clientes, etc.*\n",
        "\n",
        "Há um tempo atrás, para que modelos de IA fossem capazes de se \"adaptar\" a novos contextos, era necessário re-treiná-los ou fazer fine-tuning (ajuste) com os novos dados. Em ambos casos, o processo é relativamente custoso, principalmente no re-treino. Hoje, com o RAG, podemos adicionar contextos e informações novas sem a necessidade de re-treino ou fine-tuning, utilizando a capacidade de \"interpretação\" e \"raciocínio\" dos modelos."
      ]
    },
    {
      "cell_type": "code",
      "execution_count": 4,
      "metadata": {
        "id": "oT6v3rUCXQVX"
      },
      "outputs": [
        {
          "data": {
            "text/markdown": [
              "O Brasil conquistou 3 medalhas de ouro, 7 medalhas de prata e 10 medalhas de bronze."
            ],
            "text/plain": [
              "<IPython.core.display.Markdown object>"
            ]
          },
          "execution_count": 4,
          "metadata": {},
          "output_type": "execute_result"
        }
      ],
      "source": [
        "get_response(\n",
        "    chain=context_chain,\n",
        "    question=\"Quantas medalhas de ouro, prata e bronze o Brasil ganhou?\",\n",
        "    context=context,\n",
        ")"
      ]
    },
    {
      "cell_type": "code",
      "execution_count": 5,
      "metadata": {},
      "outputs": [
        {
          "data": {
            "text/markdown": [
              "O Brasil conquistou 7 medalhas de ouro nas Olimpíadas de Tóquio e Rio de Janeiro."
            ],
            "text/plain": [
              "<IPython.core.display.Markdown object>"
            ]
          },
          "execution_count": 5,
          "metadata": {},
          "output_type": "execute_result"
        }
      ],
      "source": [
        "get_response(\n",
        "    chain=context_chain,\n",
        "    question=\"Quantas medalhas de ouro o Brasil ganhou em Tóquio e Rio de Janeiro?\",\n",
        "    context=context,\n",
        ")"
      ]
    },
    {
      "cell_type": "markdown",
      "metadata": {},
      "source": [
        "Vejam que o modelo agora é capaz de responder corretamente a diversas informações sobre as Olimpíadas de Paris de 2024."
      ]
    },
    {
      "cell_type": "markdown",
      "metadata": {
        "id": "v5xmSMyyc72R"
      },
      "source": [
        "### Terceira iteração: banco de dados vetoriais\n",
        "\n",
        "Vimos que se provermos informações relevantes, o modelo é capaz de responder de maneira precisa às perguntas, porém, *como sabemos quais informações são relevantes*? *Como disponibilizamos essas informações de uma forma sistematizada*?\n",
        "\n",
        "É aí que os **bancos de dados vetoriais** entram em cena!\n",
        "\n",
        "Nesse exemplo utilizaremos o banco de dados [Chroma](https://www.trychroma.com/), um banco de dados simples (e relativamente poderoso) que não necessita de instalação e infraestrutura complexas.\n",
        "\n",
        "#### Vetores\n",
        "\n",
        "**Vetores**, no contexto de Inteligência Artificial, são formas numéricas de representar informações complexas, como palavras, frases, imagens ou sons, em números. Esses conjuntos de números permitem que os algoritmos entendam e comparem diferentes informações.\n",
        "\n",
        "Um vetor, em termos simples, é como *uma lista de números* que representa *características ou atributos* da informação.\n",
        "\n",
        "Por exemplo, em modelos de linguagem, uma palavra é convertida em um vetor de números (gerado por algoritmos de aprendizado) que representa seu significado, e **palavras com significados semelhantes acabam ficando próximas umas das outras** no \"espaço\" representado por esses vetores.\n",
        "\n",
        "<p align=\"center\">\n",
        "    <img src=\"embeddings.png\" width=\"500\"/>\n",
        "</p>\n",
        "\n",
        "<small>\n",
        "    <p align=\"center\">\n",
        "        John, Vineet. (2016). Rapid-Rate: A Framework for Semi-supervised Real-time Sentiment Trend Detection in Unstructured Big Data.\n",
        "    </p>\n",
        "</small>\n",
        "\n",
        "Bancos de dados vetoriais armazenam e organizam esses vetores para facilitar a busca e comparação. Em vez de procurar uma *palavra exata ou uma imagem idêntica, o banco de dados vetorial consegue buscar por itens que são \"similares\"* com base em suas representações numéricas/vetoriais.\n",
        "Esse é um conceito **crucial** em IA, boa parte da \"inteligência\" de um modelo de IA vem da capacidade de gerar bons vetores e relacioná-los.\n",
        "\n",
        "**Esses processo de vetorização de dados é comumente chamado de *embedding* e os vetores de gerados de *embeddings*.**\n",
        "\n",
        "Há diversas maneiras de se \"buscar\" por informações em bancos de dados vetoriais, em nosso exemplo utilizaremos o algoritmo padrão do Chroma que é o Hierarchical Navigable Small World (HNSW), um algoritmo de similaridade vetorial extremamente eficiente."
      ]
    },
    {
      "cell_type": "code",
      "execution_count": 6,
      "metadata": {
        "id": "qyMdyoiR_mBy"
      },
      "outputs": [],
      "source": [
        "import chromadb\n",
        "from chromadb.api.types import EmbeddingFunction\n",
        "from chromadb.utils.embedding_functions import OllamaEmbeddingFunction\n",
        "\n",
        "default_chroma_client: chromadb.Client = chromadb.Client()  # cliente padrão local do ChromaDB\n",
        "default_embedding_function: EmbeddingFunction = OllamaEmbeddingFunction(\n",
        "    model_name=model_name, url=\"http://localhost:11434/api/embeddings\"\n",
        ")  # função de embedding utilizando o modelo carregado no Ollama\n",
        "\n",
        "\n",
        "def create_chroma_collection(\n",
        "    collection_name: str,\n",
        "    client: Optional[chromadb.Client] = default_chroma_client,\n",
        "    embedding_function: Optional[EmbeddingFunction] = default_embedding_function,\n",
        "    delete: Optional[bool] = False,\n",
        "):\n",
        "    \"\"\"Cria uma coleção no ChromaDB\"\"\"\n",
        "\n",
        "    if not client:\n",
        "        client = chromadb.Client()\n",
        "\n",
        "    if delete:\n",
        "        try:\n",
        "            client.delete_collection(name=collection_name)\n",
        "        except:\n",
        "            pass\n",
        "\n",
        "    return client.create_collection(\n",
        "        name=collection_name, embedding_function=embedding_function\n",
        "    )\n",
        "\n",
        "\n",
        "collection_name = \"test_collection\"\n",
        "test_collection = create_chroma_collection(collection_name=collection_name, delete=True)\n",
        "\n",
        "texts = {\n",
        "    str(index): text\n",
        "    for index, text in enumerate(\n",
        "        [\n",
        "            \"O Brasil ganhou uma medalha no judô\",\n",
        "            \"O Brasil ganhou uma medalha na natação\",\n",
        "            \"A seleção de futebol ficou no banco\",\n",
        "            \"O Ivan foi ao banco\",\n",
        "        ]\n",
        "    )\n",
        "}\n",
        "\n",
        "test_collection.add(documents=list(texts.values()), ids=list(texts.keys()))"
      ]
    },
    {
      "cell_type": "code",
      "execution_count": 7,
      "metadata": {
        "id": "b31myEEAv-fT"
      },
      "outputs": [
        {
          "data": {
            "text/plain": [
              "{'ids': [['3', '2']],\n",
              " 'embeddings': None,\n",
              " 'documents': [['O Ivan foi ao banco', 'A seleção de futebol ficou no banco']],\n",
              " 'uris': None,\n",
              " 'data': None,\n",
              " 'metadatas': [[None, None]],\n",
              " 'distances': [[6313.224609375, 7113.58984375]],\n",
              " 'included': [<IncludeEnum.distances: 'distances'>,\n",
              "  <IncludeEnum.documents: 'documents'>,\n",
              "  <IncludeEnum.metadatas: 'metadatas'>]}"
            ]
          },
          "execution_count": 7,
          "metadata": {},
          "output_type": "execute_result"
        }
      ],
      "source": [
        "test_collection.query(query_texts=[\"Vou tirar dinheiro\"], n_results=2)"
      ]
    },
    {
      "cell_type": "code",
      "execution_count": 8,
      "metadata": {
        "id": "n7g4QH8Xyf5M"
      },
      "outputs": [
        {
          "data": {
            "text/plain": [
              "{'ids': [['0', '1']],\n",
              " 'embeddings': None,\n",
              " 'documents': [['O Brasil ganhou uma medalha no judô',\n",
              "   'O Brasil ganhou uma medalha na natação']],\n",
              " 'uris': None,\n",
              " 'data': None,\n",
              " 'metadatas': [[None, None]],\n",
              " 'distances': [[10025.837890625, 10542.23046875]],\n",
              " 'included': [<IncludeEnum.distances: 'distances'>,\n",
              "  <IncludeEnum.documents: 'documents'>,\n",
              "  <IncludeEnum.metadatas: 'metadatas'>]}"
            ]
          },
          "execution_count": 8,
          "metadata": {},
          "output_type": "execute_result"
        }
      ],
      "source": [
        "test_collection.query(query_texts=[\"Qual o prêmio das olimpíadas?\"], n_results=2)"
      ]
    },
    {
      "cell_type": "markdown",
      "metadata": {
        "id": "YQkP6Tc3yp1h"
      },
      "source": [
        "Vejam que os resultados retornados estão de acordo com o contexto da \"query\".\n",
        "\n",
        "A busca é muito mais *semântica* do que *literal*.\n",
        "\n",
        "Em outros mecanismos de busca, \"tirar dinheiro\" não seria relacionado com \"banco\", mesmo que o \"banco\" no segundo exemplo seja o banco de sentar (note que nesse caso a distância foi maior que o banco financeiro)."
      ]
    },
    {
      "cell_type": "code",
      "execution_count": 9,
      "metadata": {},
      "outputs": [],
      "source": [
        "default_chroma_client.delete_collection(name=collection_name)"
      ]
    },
    {
      "cell_type": "markdown",
      "metadata": {
        "id": "G3cNxu0o0pv7"
      },
      "source": [
        "#### Loaders\n",
        "\n",
        "Como todo processo RAG necessita de dados de diversas fontes e formatos, frameworks como [LangChain](https://python.langchain.com/docs/how_to/#document-loaders) e [LlamaIndex](https://llamahub.ai/?tab=readers) provêem ferramentas para lidar com arquivos PDF, imagens, sites e outros.\n",
        "\n",
        "Essas ferramentas conhecidas como \"loaders\", abstraem muitas complexidades no carregamento e leitura dos diversos formatos, facilitando a integração de dados no RAG.\n",
        "\n",
        "Utilizaremos aqui um loader de PDF para ilustrar a aquisição de dados e inserção no banco de dados."
      ]
    },
    {
      "cell_type": "markdown",
      "metadata": {
        "id": "qso-C6x7zpuJ"
      },
      "source": [
        "#### Chunking\n",
        "\n",
        "Toda informação extra é bem vinda, porém, **informação demais pode confundir** o modelo na hora de responder e informação de menos pode fazer com que o modelo não consiga responder e/ou alucine. Além disso, há um limite no tamanho de informações que um modelo é capaz de processar (contexto).\n",
        "\n",
        "Para isso, o ideal é \"quebrar\" os documentos em pequenos trechos, assim, a busca contextual poderá achar pequenos trechos que contribuam para a resposta pelo modelo, sem trazer partes irrelevantes junto.\n",
        "\n",
        "Esse passo é conhecido como *chunking* e utiliza text splitters (ou separadores de texto).\n",
        "\n",
        "Há [diversas técnicas](https://python.langchain.com/docs/concepts/#text-splitting) para essa quebra de trechos e essa definição é **muito importante para o processo todo do RAG**.\n",
        "\n",
        "Na library LlamaIndex há [diversos](https://docs.llamaindex.ai/en/stable/module_guides/loading/node_parsers/modules/) \"node parsers\" (como é chamado lá), inclusive o Semantic Chunker, que faz separação de trechos semânticos.\n",
        "\n",
        "*Como todo o processo depende da vetorização dos chunks e recuperação posterior, os chunks devem ser bem definidos e relevantes, para que o seu significado seja capturado pelos vetores. Caso utilizemos chunks muito grandes, podemos gerar vetores que não representem bem o significado do texto.*"
      ]
    },
    {
      "cell_type": "code",
      "execution_count": 10,
      "metadata": {
        "id": "DK5dLeN_aFFg"
      },
      "outputs": [],
      "source": [
        "from io import BytesIO\n",
        "\n",
        "import requests\n",
        "from langchain.document_loaders import PyPDFLoader\n",
        "\n",
        "pdf_data = BytesIO(  # leitura do PDF e armazenamento\n",
        "    requests.get(\n",
        "        \"https://drive.google.com/uc?export=download&id=12UaiL-M2xynG1Vo2_UayMx7IVe8aTz38\"\n",
        "    ).content\n",
        ")\n",
        "pdf_file = \"./paris.pdf\"\n",
        "with open(pdf_file, \"wb\") as pdf_file_writer:\n",
        "    pdf_file_writer.write(pdf_data.read())\n",
        "\n",
        "loader = PyPDFLoader(pdf_file)  # iniciamos o Loader com o PDF\n",
        "docs = loader.load_and_split()  # carregamos o PDF e separamos as páginas em documentos"
      ]
    },
    {
      "cell_type": "code",
      "execution_count": 12,
      "metadata": {
        "id": "702ZGqfl38Is"
      },
      "outputs": [
        {
          "name": "stdout",
          "output_type": "stream",
          "text": [
            "page_content='Política Economia Esportes Pop Viagem & Gastronomia Ao vivo\n",
            "Brasil fecha Paris 2024 com 20 medalhas; veja comparação com outras edições\n",
            "Da CNN\n",
            "10/08/2024 às 14:40 | Atualizado 11/08/2024 às 15:42\n",
            "Entre celebrações, conquistas improváveis e decepções, o Brasil encerra sua participação na Olimpíada de Paris 2024 com 20\n",
            "medalhas no total, sendo 3 ouros, 7 pratas e 10 bronzes.Delegação não consegue alcançar os sete ouros conquistados nas Olimpíadas de Tóquio e Rio de Janeiro\n",
            "Rebeca Andrade conquista o ouro no solo e é reverenciada por dupla dos Estados Unidos • Elsa/Getty Images\n",
            "Compartilhar matéria\n",
            "ouvir notícia\n",
            "0:00 1.0x\n",
            "Esportes Futebol Brasileirão Basquete Automobilismo Tênis eSports Apostas16/10/2024, 15:28 Brasil fecha Paris 2024 com 20 medalhas; veja comparação com outras edições | CNN Brasil\n",
            "https://www.cnnbrasil.com.br/esportes/olimpiadas/resumo-brasil-paris-2024-medalhas-comparacao-outras-edicoes/ 1/9' metadata={'source': './paris.pdf', 'page': 0}\n",
            "----------------------------------------------------------------------------------------------------\n",
            "page_content='Os números ﬁcam abaixo das últimas edições se levarmos em consideração o total de medalhas de ouro. Nas Olimpíadas de\n",
            "Tóquio e Ri o de Janeiro, o Brasil bateu seu recorde ao subir no lugar mais alto do pódio em 7 oportunidades.\n",
            "Leia mais\n",
            "Antes, o recorde era de Atenas 2004, quando 5 medalhas douradas foram garantidas pela delegação brasileira. Em outras\n",
            "edições os números eram mais modestos, com 3 medalhas no máximo.\n",
            "Em 24 participações na história olímpica, o Brasil deixou de ganhar medalha de ouro em 10 edições: Paris 1924, Los Angeles\n",
            "1932, Berlim 1936, Londres 1948, Roma 1960, Tóquio 1964, Cidade do México 1968, Munique 1972, Montreal 1976 e Sydney\n",
            "2000.\n",
            "Gabriel Medina defende mudanças no surfe para Olimpíada de Los Angeles; entenda\n",
            "Ingrid Oliveira chora em desabafo sobre saúde mental e relata relacionamento abusivo\n",
            "Bárbara Domingos conquista melhor colocação do Brasil na Ginástica Rítmica16/10/2024, 15:28 Brasil fecha Paris 2024 com 20 medalhas; veja comparação com outras edições | CNN Brasil\n",
            "https://www.cnnbrasil.com.br/esportes/olimpiadas/resumo-brasil-paris-2024-medalhas-comparacao-outras-edicoes/ 2/9' metadata={'source': './paris.pdf', 'page': 1}\n",
            "----------------------------------------------------------------------------------------------------\n",
            "page_content='Paris 2024 marcou para o Brasil um ponto importante. Na edição em que a delegação brasileira é composta por mais mulheres\n",
            "do que homens, pela primeira vez na história, as mulheres conquistaram mais medalhas que os homens para o Brasil.\n",
            "Número total de medalhas\n",
            "Já no ranking do número total de medalhas, o Brasil ﬁcou próximo de alcançar os 21 pódios de Tóquio 2020, maior marca\n",
            "conquistada pela delegação verde e amarela até hoje.\n",
            "Nas edições de Paris 1924, Los Angeles 1932 e Berlim 1936 o Brasil não somou nenhuma medalha.\n",
            "Ranking de medalhas de ouro do Brasil\n",
            "Tóquio 2020 – 7 ouros\n",
            "Rio 2016 – 7 ouros\n",
            "Atenas 2004 – 5 ouros\n",
            "Paris 2024 – 3 ouros\n",
            "Londres 2012 – 3 ouros\n",
            "Pequim 2008 – 3 ouros\n",
            "Atlanta 1996 – 3 ouros\n",
            "Moscou 1980 – 2 ouros\n",
            "Barcelona 1992 – 2 ouros\n",
            "Los Angeles 1984 – 1 ouro\n",
            "Seul 1988 – 1 ouro\n",
            "Antuérpia 1920 – 1 ouro\n",
            "Helsinque 1952 – 1 ouro\n",
            "Seleção Brasileira Feminina de Vôlei comemora a medalha de bronze após vencer a Turquia • Divulgação/COB1 de 20\n",
            "16/10/2024, 15:28 Brasil fecha Paris 2024 com 20 medalhas; veja comparação com outras edições | CNN Brasil\n",
            "https://www.cnnbrasil.com.br/esportes/olimpiadas/resumo-brasil-paris-2024-medalhas-comparacao-outras-edicoes/ 3/9' metadata={'source': './paris.pdf', 'page': 2}\n",
            "----------------------------------------------------------------------------------------------------\n"
          ]
        }
      ],
      "source": [
        "for doc in docs[:3]:  # printamos as primeiras 3 páginas\n",
        "    print(doc)\n",
        "    print(\"-\" * 100)"
      ]
    },
    {
      "cell_type": "markdown",
      "metadata": {
        "id": "yW0Wj5go4pYv"
      },
      "source": [
        "Vejam que os documentos têm **metadados** com o número da página, assim, é possível que a LLM *cite referências* quando utilizar os documentos (*há necessidade de configuração/prompt adicional para tal*)."
      ]
    },
    {
      "cell_type": "markdown",
      "metadata": {
        "id": "4TVOlwBY4ynD"
      },
      "source": [
        "Como dito anteriormente, precisamos separar trechos dos documentos e os armazenar no banco de dados para futuras buscas no processo RAG.\n",
        "\n",
        "Utilizaremos o básico [RecursiveCharacterTextSplitter](https://python.langchain.com/docs/how_to/recursive_text_splitter/), que é o modo \"genérico\" recomendado pelo LangChain."
      ]
    },
    {
      "cell_type": "code",
      "execution_count": 13,
      "metadata": {
        "id": "fszN1hY7a2Au"
      },
      "outputs": [],
      "source": [
        "from langchain_text_splitters import RecursiveCharacterTextSplitter\n",
        "\n",
        "text_splitter = RecursiveCharacterTextSplitter(chunk_size=500, chunk_overlap=100)\n",
        "splits = text_splitter.split_documents(docs)"
      ]
    },
    {
      "cell_type": "code",
      "execution_count": 14,
      "metadata": {
        "id": "_yddr-0S68RF"
      },
      "outputs": [
        {
          "name": "stdout",
          "output_type": "stream",
          "text": [
            "page_content='Política Economia Esportes Pop Viagem & Gastronomia Ao vivo\n",
            "Brasil fecha Paris 2024 com 20 medalhas; veja comparação com outras edições\n",
            "Da CNN\n",
            "10/08/2024 às 14:40 | Atualizado 11/08/2024 às 15:42\n",
            "Entre celebrações, conquistas improváveis e decepções, o Brasil encerra sua participação na Olimpíada de Paris 2024 com 20\n",
            "medalhas no total, sendo 3 ouros, 7 pratas e 10 bronzes.Delegação não consegue alcançar os sete ouros conquistados nas Olimpíadas de Tóquio e Rio de Janeiro' metadata={'source': './paris.pdf', 'page': 0}\n",
            "----------------------------------------------------------------------------------------------------\n",
            "page_content='Rebeca Andrade conquista o ouro no solo e é reverenciada por dupla dos Estados Unidos • Elsa/Getty Images\n",
            "Compartilhar matéria\n",
            "ouvir notícia\n",
            "0:00 1.0x\n",
            "Esportes Futebol Brasileirão Basquete Automobilismo Tênis eSports Apostas16/10/2024, 15:28 Brasil fecha Paris 2024 com 20 medalhas; veja comparação com outras edições | CNN Brasil\n",
            "https://www.cnnbrasil.com.br/esportes/olimpiadas/resumo-brasil-paris-2024-medalhas-comparacao-outras-edicoes/ 1/9' metadata={'source': './paris.pdf', 'page': 0}\n",
            "----------------------------------------------------------------------------------------------------\n",
            "page_content='Os números ﬁcam abaixo das últimas edições se levarmos em consideração o total de medalhas de ouro. Nas Olimpíadas de\n",
            "Tóquio e Ri o de Janeiro, o Brasil bateu seu recorde ao subir no lugar mais alto do pódio em 7 oportunidades.\n",
            "Leia mais\n",
            "Antes, o recorde era de Atenas 2004, quando 5 medalhas douradas foram garantidas pela delegação brasileira. Em outras\n",
            "edições os números eram mais modestos, com 3 medalhas no máximo.' metadata={'source': './paris.pdf', 'page': 1}\n",
            "----------------------------------------------------------------------------------------------------\n",
            "page_content='edições os números eram mais modestos, com 3 medalhas no máximo.\n",
            "Em 24 participações na história olímpica, o Brasil deixou de ganhar medalha de ouro em 10 edições: Paris 1924, Los Angeles\n",
            "1932, Berlim 1936, Londres 1948, Roma 1960, Tóquio 1964, Cidade do México 1968, Munique 1972, Montreal 1976 e Sydney\n",
            "2000.\n",
            "Gabriel Medina defende mudanças no surfe para Olimpíada de Los Angeles; entenda\n",
            "Ingrid Oliveira chora em desabafo sobre saúde mental e relata relacionamento abusivo' metadata={'source': './paris.pdf', 'page': 1}\n",
            "----------------------------------------------------------------------------------------------------\n",
            "page_content='Ingrid Oliveira chora em desabafo sobre saúde mental e relata relacionamento abusivo\n",
            "Bárbara Domingos conquista melhor colocação do Brasil na Ginástica Rítmica16/10/2024, 15:28 Brasil fecha Paris 2024 com 20 medalhas; veja comparação com outras edições | CNN Brasil\n",
            "https://www.cnnbrasil.com.br/esportes/olimpiadas/resumo-brasil-paris-2024-medalhas-comparacao-outras-edicoes/ 2/9' metadata={'source': './paris.pdf', 'page': 1}\n",
            "----------------------------------------------------------------------------------------------------\n"
          ]
        }
      ],
      "source": [
        "for split in splits[:5]:\n",
        "    print(split)\n",
        "    print(\"-\" * 100)"
      ]
    },
    {
      "cell_type": "markdown",
      "metadata": {},
      "source": [
        "*É possível notar diversos trechos irrelevantes nos chunks, porém, o modelo é capaz de ignorá-los e responder corretamente.\n",
        "O ideal é sempre fazer o \"parse\" dos documentos e pré-processamento correto para evitar que esses trechos irrelevantes sejam armazenados e/ou desviem o significado do texto e consequentemente do vetor.*"
      ]
    },
    {
      "cell_type": "markdown",
      "metadata": {
        "id": "27zx6XlW7le3"
      },
      "source": [
        "Agora podemos partir para inserir os chunks no banco de dados!"
      ]
    },
    {
      "cell_type": "code",
      "execution_count": 15,
      "metadata": {
        "id": "lJU_iYLXhpni"
      },
      "outputs": [
        {
          "data": {
            "text/plain": [
              "['52651d9a-b55f-4a82-a61b-0822ccdfa8af',\n",
              " '5529240c-9aa9-4819-a4bc-5ea3b2648504',\n",
              " 'bd3a9644-73dc-410d-bc09-625777294970',\n",
              " '291573b2-0e36-4d65-8d23-05358e16455b',\n",
              " '4c87457a-92ad-4122-a3d9-7aa42ab8f9a1',\n",
              " 'bba95605-fa84-4e69-b2e6-84183d698f9e',\n",
              " '7a17d722-3c54-4fd3-bdf4-27a99d23bc01',\n",
              " '66861fd0-2c2d-4bdc-b830-88e87efba36b',\n",
              " '57957534-694f-47fb-8d6a-bbe006bec254',\n",
              " '75db2f64-d926-4e9b-a10e-678d288f79c5',\n",
              " '05e570aa-53df-4f19-95a9-cb7dec461458',\n",
              " '07bdf17a-8ea0-463a-869b-9144dcecf50e',\n",
              " '33bb2c51-1292-4d31-90ee-4370eb524234',\n",
              " 'ceef70c9-8268-40b5-bf76-77306dfbc213',\n",
              " 'e0079ec6-4470-46b2-9b80-831dc3abec3a',\n",
              " '00925441-d727-410f-8fe7-af67dd7b5447',\n",
              " '4bb67f4c-107d-4149-a725-e57478037929',\n",
              " '95b70179-dce5-4c9c-bdbf-27c676ef635b',\n",
              " 'b4191d27-e6df-44da-8077-c98c760ecf5b',\n",
              " '31440678-f981-4b90-8273-d3289da80de9',\n",
              " '5796ea05-d7ad-460d-8511-e59ffaaf0132']"
            ]
          },
          "execution_count": 15,
          "metadata": {},
          "output_type": "execute_result"
        }
      ],
      "source": [
        "from uuid import uuid4\n",
        "\n",
        "from langchain_chroma import Chroma\n",
        "from langchain_core.output_parsers import StrOutputParser\n",
        "from langchain_core.runnables import RunnablePassthrough\n",
        "from langchain_core.vectorstores.base import VectorStoreRetriever\n",
        "from langchain_ollama import OllamaEmbeddings\n",
        "\n",
        "\n",
        "def format_docs(docs):\n",
        "    \"\"\"Função simples para separar os documentos com duas quebras de linha\"\"\"\n",
        "\n",
        "    return \"\\n\\n\".join(doc.page_content for doc in docs)\n",
        "\n",
        "\n",
        "collection_name = \"olimpiadas\"\n",
        "olympics_collection = create_chroma_collection(\n",
        "    collection_name=collection_name, delete=True\n",
        ")\n",
        "\n",
        "ollama_embeddings = OllamaEmbeddings(\n",
        "    model=model_name\n",
        ")  # o tipo do LangChain é diferente do Chroma\n",
        "\n",
        "vector_store = Chroma(  # criamos o objeto Chroma do LangChain\n",
        "    client=default_chroma_client,\n",
        "    collection_name=collection_name,\n",
        "    embedding_function=ollama_embeddings,\n",
        ")\n",
        "\n",
        "uuids = [str(uuid4()) for _ in range(len(splits))]  # geramos UUIDs para os chunks\n",
        "vector_store.add_documents(documents=splits, ids=uuids)  # inserimos os chunks no Chroma"
      ]
    },
    {
      "cell_type": "markdown",
      "metadata": {},
      "source": [
        "Vamos criar agora uma chain que utilize o banco de dados vetorial para responder às perguntas sobre as Olimpíadas de Paris de 2024."
      ]
    },
    {
      "cell_type": "code",
      "execution_count": 16,
      "metadata": {},
      "outputs": [],
      "source": [
        "def get_response(\n",
        "    chain: RunnableSequence,\n",
        "    question: str,\n",
        "    retriever: Optional[VectorStoreRetriever] = None,\n",
        "    print_docs: Optional[bool] = True,\n",
        "):\n",
        "    \"\"\"Retorna a resposta do modelo em markdown\"\"\"\n",
        "\n",
        "    if print_docs and retriever is not None:\n",
        "        print(f\"Documentos encontrados:\")\n",
        "\n",
        "        retrieved_docs = retriever.invoke(question)\n",
        "\n",
        "        for doc in retrieved_docs:\n",
        "            print(doc.page_content)\n",
        "            print(\"-\" * 100)\n",
        "\n",
        "    return Markdown(chain.invoke(question))\n",
        "\n",
        "\n",
        "retriever = vector_store.as_retriever(\n",
        "    search_kwargs={\"k\": 5}  # k é o número máximo de documentos para retornar\n",
        ")  # o retriever é o \"buscador\" de splits/chunks\n",
        "\n",
        "context_template = \"\"\"\n",
        "Você é um assistente para tarefas de perguntas e respostas. Use as seguintes partes do contexto para responder à pergunta. Use no máximo três frases e mantenha a resposta concisa.\n",
        "\n",
        "Pergunta: {question}\n",
        "\n",
        "Contexto: {context}\n",
        "\n",
        "Resposta:\n",
        "\"\"\"\n",
        "\n",
        "context_prompt = ChatPromptTemplate.from_template(context_template)\n",
        "\n",
        "rag_chain = (\n",
        "    {\"context\": retriever | format_docs, \"question\": RunnablePassthrough()}\n",
        "    | context_prompt\n",
        "    | model\n",
        "    | StrOutputParser()\n",
        ")"
      ]
    },
    {
      "cell_type": "code",
      "execution_count": 17,
      "metadata": {
        "id": "FA3s4Um_iw2a"
      },
      "outputs": [
        {
          "name": "stdout",
          "output_type": "stream",
          "text": [
            "Documentos encontrados:\n",
            "Paris 2024 marcou para o Brasil um ponto importante. Na edição em que a delegação brasileira é composta por mais mulheres\n",
            "do que homens, pela primeira vez na história, as mulheres conquistaram mais medalhas que os homens para o Brasil.\n",
            "Número total de medalhas\n",
            "Já no ranking do número total de medalhas, o Brasil ﬁcou próximo de alcançar os 21 pódios de Tóquio 2020, maior marca\n",
            "conquistada pela delegação verde e amarela até hoje.\n",
            "----------------------------------------------------------------------------------------------------\n",
            "Os números ﬁcam abaixo das últimas edições se levarmos em consideração o total de medalhas de ouro. Nas Olimpíadas de\n",
            "Tóquio e Ri o de Janeiro, o Brasil bateu seu recorde ao subir no lugar mais alto do pódio em 7 oportunidades.\n",
            "Leia mais\n",
            "Antes, o recorde era de Atenas 2004, quando 5 medalhas douradas foram garantidas pela delegação brasileira. Em outras\n",
            "edições os números eram mais modestos, com 3 medalhas no máximo.\n",
            "----------------------------------------------------------------------------------------------------\n",
            "conquistada pela delegação verde e amarela até hoje.\n",
            "Nas edições de Paris 1924, Los Angeles 1932 e Berlim 1936 o Brasil não somou nenhuma medalha.\n",
            "Ranking de medalhas de ouro do Brasil\n",
            "Tóquio 2020 – 7 ouros\n",
            "Rio 2016 – 7 ouros\n",
            "Atenas 2004 – 5 ouros\n",
            "Paris 2024 – 3 ouros\n",
            "Londres 2012 – 3 ouros\n",
            "Pequim 2008 – 3 ouros\n",
            "Atlanta 1996 – 3 ouros\n",
            "Moscou 1980 – 2 ouros\n",
            "Barcelona 1992 – 2 ouros\n",
            "Los Angeles 1984 – 1 ouro\n",
            "Seul 1988 – 1 ouro\n",
            "Antuérpia 1920 – 1 ouro\n",
            "Helsinque 1952 – 1 ouro\n",
            "----------------------------------------------------------------------------------------------------\n",
            "Moscou 1980 – 4 medalhas\n",
            "Antuérpia 1920 – 3 medalhas\n",
            "Helsinque 1952 – 3 medalhas\n",
            "Cidade do México 1968 – 3 medalhas\n",
            "Barcelona 1992 – 3 medalhas\n",
            "Roma 1960 – 2 medalhas\n",
            "Munique 1972 – 2 medalhas\n",
            "Montreal 1976 – 2 medalhas\n",
            "Londres 1948 – 1 medalha\n",
            "Melbourne 1956 – 1 medalha\n",
            "Tóquio 1964 – 1 medalha16/10/2024, 15:28 Brasil fecha Paris 2024 com 20 medalhas; veja comparação com outras edições | CNN Brasil\n",
            "----------------------------------------------------------------------------------------------------\n",
            "CNN Brasil.\n",
            "Pense bem, pense CNN.\n",
            "CNN AO VIVO\n",
            "CNN NAS REDESMAIS\n",
            "Equipe CNN Brasil\n",
            "Grade de Programação\n",
            "Blogs\n",
            "Colunas\n",
            "Fórum CNN\n",
            "Newsletters\n",
            "Mapa do site\n",
            "Distribuição do SinalEDITORIAS\n",
            "POLÍTICA\n",
            "NACIONAL\n",
            "ECONOMIA\n",
            "INTERNACIONAL\n",
            "ENTRETENIMENTO\n",
            "ESPORTES\n",
            "SAÚDE\n",
            "TECNOLOGIA\n",
            "VIAGEM & GASTRONOMIA\n",
            "Sobre a CNN Brasil16/10/2024, 15:28 Brasil fecha Paris 2024 com 20 medalhas; veja comparação com outras edições | CNN Brasil\n",
            "----------------------------------------------------------------------------------------------------\n"
          ]
        },
        {
          "data": {
            "text/markdown": [
              "O Brasil conquistou 3 medalhas de ouro em Paris 2024."
            ],
            "text/plain": [
              "<IPython.core.display.Markdown object>"
            ]
          },
          "execution_count": 17,
          "metadata": {},
          "output_type": "execute_result"
        }
      ],
      "source": [
        "get_response(\n",
        "    chain=rag_chain,\n",
        "    question=\"Quantas medalhas o Brasil ganhou em Paris?\",\n",
        "    retriever=retriever,\n",
        ")"
      ]
    },
    {
      "cell_type": "code",
      "execution_count": 18,
      "metadata": {
        "id": "W5Oijz21PlgD"
      },
      "outputs": [
        {
          "name": "stdout",
          "output_type": "stream",
          "text": [
            "Documentos encontrados:\n",
            "Os números ﬁcam abaixo das últimas edições se levarmos em consideração o total de medalhas de ouro. Nas Olimpíadas de\n",
            "Tóquio e Ri o de Janeiro, o Brasil bateu seu recorde ao subir no lugar mais alto do pódio em 7 oportunidades.\n",
            "Leia mais\n",
            "Antes, o recorde era de Atenas 2004, quando 5 medalhas douradas foram garantidas pela delegação brasileira. Em outras\n",
            "edições os números eram mais modestos, com 3 medalhas no máximo.\n",
            "----------------------------------------------------------------------------------------------------\n",
            "Paris 2024 marcou para o Brasil um ponto importante. Na edição em que a delegação brasileira é composta por mais mulheres\n",
            "do que homens, pela primeira vez na história, as mulheres conquistaram mais medalhas que os homens para o Brasil.\n",
            "Número total de medalhas\n",
            "Já no ranking do número total de medalhas, o Brasil ﬁcou próximo de alcançar os 21 pódios de Tóquio 2020, maior marca\n",
            "conquistada pela delegação verde e amarela até hoje.\n",
            "----------------------------------------------------------------------------------------------------\n",
            "CNN Brasil.\n",
            "Pense bem, pense CNN.\n",
            "CNN AO VIVO\n",
            "CNN NAS REDESMAIS\n",
            "Equipe CNN Brasil\n",
            "Grade de Programação\n",
            "Blogs\n",
            "Colunas\n",
            "Fórum CNN\n",
            "Newsletters\n",
            "Mapa do site\n",
            "Distribuição do SinalEDITORIAS\n",
            "POLÍTICA\n",
            "NACIONAL\n",
            "ECONOMIA\n",
            "INTERNACIONAL\n",
            "ENTRETENIMENTO\n",
            "ESPORTES\n",
            "SAÚDE\n",
            "TECNOLOGIA\n",
            "VIAGEM & GASTRONOMIA\n",
            "Sobre a CNN Brasil16/10/2024, 15:28 Brasil fecha Paris 2024 com 20 medalhas; veja comparação com outras edições | CNN Brasil\n",
            "----------------------------------------------------------------------------------------------------\n",
            "Mais Recentes da CNN\n",
            "Embraer anuncia quase R$ 400 milhões em investimentos para ampliar serviços nos EUA\n",
            "\"Professora do Ano\" leva prêmio nacional por projeto antirracista\n",
            "Gêmeas de 6 anos morrem em intervalo de 8 dias no RS; mãe é presa\n",
            "Real Madrid? Al-Nassr lança uniforme parecido com camisa madrilenha \n",
            "Bateria de exames em doadores é garantia de segurança em transplantes16/10/2024, 15:28 Brasil fecha Paris 2024 com 20 medalhas; veja comparação com outras edições | CNN Brasil\n",
            "----------------------------------------------------------------------------------------------------\n",
            "Moscou 1980 – 4 medalhas\n",
            "Antuérpia 1920 – 3 medalhas\n",
            "Helsinque 1952 – 3 medalhas\n",
            "Cidade do México 1968 – 3 medalhas\n",
            "Barcelona 1992 – 3 medalhas\n",
            "Roma 1960 – 2 medalhas\n",
            "Munique 1972 – 2 medalhas\n",
            "Montreal 1976 – 2 medalhas\n",
            "Londres 1948 – 1 medalha\n",
            "Melbourne 1956 – 1 medalha\n",
            "Tóquio 1964 – 1 medalha16/10/2024, 15:28 Brasil fecha Paris 2024 com 20 medalhas; veja comparação com outras edições | CNN Brasil\n",
            "----------------------------------------------------------------------------------------------------\n"
          ]
        },
        {
          "data": {
            "text/markdown": [
              "O Brasil conquistou 20 medalhas em Paris 2024. Isso é um recorde para a seleção brasileira de volei, superando o total de 17 medalhas obtidas nas Olimpíadas anteriores. A delegação brasileira também alcançou um novo recorde histórico com mais mulheres do que homens."
            ],
            "text/plain": [
              "<IPython.core.display.Markdown object>"
            ]
          },
          "execution_count": 18,
          "metadata": {},
          "output_type": "execute_result"
        }
      ],
      "source": [
        "get_response(\n",
        "    chain=rag_chain,\n",
        "    question=\"Como foi a seleção de volei?\",\n",
        "    retriever=retriever,\n",
        ")"
      ]
    },
    {
      "cell_type": "code",
      "execution_count": 19,
      "metadata": {
        "id": "NkcxcbGDQAur"
      },
      "outputs": [
        {
          "name": "stdout",
          "output_type": "stream",
          "text": [
            "Documentos encontrados:\n",
            "Paris 2024 marcou para o Brasil um ponto importante. Na edição em que a delegação brasileira é composta por mais mulheres\n",
            "do que homens, pela primeira vez na história, as mulheres conquistaram mais medalhas que os homens para o Brasil.\n",
            "Número total de medalhas\n",
            "Já no ranking do número total de medalhas, o Brasil ﬁcou próximo de alcançar os 21 pódios de Tóquio 2020, maior marca\n",
            "conquistada pela delegação verde e amarela até hoje.\n",
            "----------------------------------------------------------------------------------------------------\n",
            "Os números ﬁcam abaixo das últimas edições se levarmos em consideração o total de medalhas de ouro. Nas Olimpíadas de\n",
            "Tóquio e Ri o de Janeiro, o Brasil bateu seu recorde ao subir no lugar mais alto do pódio em 7 oportunidades.\n",
            "Leia mais\n",
            "Antes, o recorde era de Atenas 2004, quando 5 medalhas douradas foram garantidas pela delegação brasileira. Em outras\n",
            "edições os números eram mais modestos, com 3 medalhas no máximo.\n",
            "----------------------------------------------------------------------------------------------------\n",
            "CNN Brasil.\n",
            "Pense bem, pense CNN.\n",
            "CNN AO VIVO\n",
            "CNN NAS REDESMAIS\n",
            "Equipe CNN Brasil\n",
            "Grade de Programação\n",
            "Blogs\n",
            "Colunas\n",
            "Fórum CNN\n",
            "Newsletters\n",
            "Mapa do site\n",
            "Distribuição do SinalEDITORIAS\n",
            "POLÍTICA\n",
            "NACIONAL\n",
            "ECONOMIA\n",
            "INTERNACIONAL\n",
            "ENTRETENIMENTO\n",
            "ESPORTES\n",
            "SAÚDE\n",
            "TECNOLOGIA\n",
            "VIAGEM & GASTRONOMIA\n",
            "Sobre a CNN Brasil16/10/2024, 15:28 Brasil fecha Paris 2024 com 20 medalhas; veja comparação com outras edições | CNN Brasil\n",
            "----------------------------------------------------------------------------------------------------\n",
            "Moscou 1980 – 4 medalhas\n",
            "Antuérpia 1920 – 3 medalhas\n",
            "Helsinque 1952 – 3 medalhas\n",
            "Cidade do México 1968 – 3 medalhas\n",
            "Barcelona 1992 – 3 medalhas\n",
            "Roma 1960 – 2 medalhas\n",
            "Munique 1972 – 2 medalhas\n",
            "Montreal 1976 – 2 medalhas\n",
            "Londres 1948 – 1 medalha\n",
            "Melbourne 1956 – 1 medalha\n",
            "Tóquio 1964 – 1 medalha16/10/2024, 15:28 Brasil fecha Paris 2024 com 20 medalhas; veja comparação com outras edições | CNN Brasil\n",
            "----------------------------------------------------------------------------------------------------\n",
            "Mais Recentes da CNN\n",
            "Embraer anuncia quase R$ 400 milhões em investimentos para ampliar serviços nos EUA\n",
            "\"Professora do Ano\" leva prêmio nacional por projeto antirracista\n",
            "Gêmeas de 6 anos morrem em intervalo de 8 dias no RS; mãe é presa\n",
            "Real Madrid? Al-Nassr lança uniforme parecido com camisa madrilenha \n",
            "Bateria de exames em doadores é garantia de segurança em transplantes16/10/2024, 15:28 Brasil fecha Paris 2024 com 20 medalhas; veja comparação com outras edições | CNN Brasil\n",
            "----------------------------------------------------------------------------------------------------\n"
          ]
        },
        {
          "data": {
            "text/markdown": [
              "O Brasil melhorou em relação às olimpíadas anteriores, alcançando um total de 20 medalhas, próximo dos 21 pódios conquistados na Tóquio 2020. Isso é uma melhoria significativa em comparação com as edições anteriores, que não superavam os 10 pódios. O Brasil também bateu seu recorde de medalhas douradas nas olimpíadas."
            ],
            "text/plain": [
              "<IPython.core.display.Markdown object>"
            ]
          },
          "execution_count": 19,
          "metadata": {},
          "output_type": "execute_result"
        }
      ],
      "source": [
        "get_response(\n",
        "    chain=rag_chain,\n",
        "    question=\"O Brasil foi melhor ou pior que nas olimpíadas anteriores?\",\n",
        "    retriever=retriever,\n",
        ")"
      ]
    },
    {
      "cell_type": "code",
      "execution_count": 20,
      "metadata": {},
      "outputs": [
        {
          "name": "stdout",
          "output_type": "stream",
          "text": [
            "Documentos encontrados:\n",
            "Paris 2024 marcou para o Brasil um ponto importante. Na edição em que a delegação brasileira é composta por mais mulheres\n",
            "do que homens, pela primeira vez na história, as mulheres conquistaram mais medalhas que os homens para o Brasil.\n",
            "Número total de medalhas\n",
            "Já no ranking do número total de medalhas, o Brasil ﬁcou próximo de alcançar os 21 pódios de Tóquio 2020, maior marca\n",
            "conquistada pela delegação verde e amarela até hoje.\n",
            "----------------------------------------------------------------------------------------------------\n",
            "Os números ﬁcam abaixo das últimas edições se levarmos em consideração o total de medalhas de ouro. Nas Olimpíadas de\n",
            "Tóquio e Ri o de Janeiro, o Brasil bateu seu recorde ao subir no lugar mais alto do pódio em 7 oportunidades.\n",
            "Leia mais\n",
            "Antes, o recorde era de Atenas 2004, quando 5 medalhas douradas foram garantidas pela delegação brasileira. Em outras\n",
            "edições os números eram mais modestos, com 3 medalhas no máximo.\n",
            "----------------------------------------------------------------------------------------------------\n",
            "conquistada pela delegação verde e amarela até hoje.\n",
            "Nas edições de Paris 1924, Los Angeles 1932 e Berlim 1936 o Brasil não somou nenhuma medalha.\n",
            "Ranking de medalhas de ouro do Brasil\n",
            "Tóquio 2020 – 7 ouros\n",
            "Rio 2016 – 7 ouros\n",
            "Atenas 2004 – 5 ouros\n",
            "Paris 2024 – 3 ouros\n",
            "Londres 2012 – 3 ouros\n",
            "Pequim 2008 – 3 ouros\n",
            "Atlanta 1996 – 3 ouros\n",
            "Moscou 1980 – 2 ouros\n",
            "Barcelona 1992 – 2 ouros\n",
            "Los Angeles 1984 – 1 ouro\n",
            "Seul 1988 – 1 ouro\n",
            "Antuérpia 1920 – 1 ouro\n",
            "Helsinque 1952 – 1 ouro\n",
            "----------------------------------------------------------------------------------------------------\n",
            "Ranking do número de medalhas do Brasil\n",
            "Brasil ganhou 20 medalhas em Paris; veja comparação com outras ediçõesMelbourne 1956 – 1 ouro\n",
            "Tóquio 2020 – 21 medalhas\n",
            "Paris 2024 – 20 medalhas\n",
            "Rio 2016 – 19 medalhas\n",
            "Pequim 2008 – 17 medalhas\n",
            "Londres 2012 – 17 medalhas\n",
            "Atlanta 1996 – 15 medalhas\n",
            "Sydney 2000 – 12 medalhas\n",
            "Atenas 2004 – 10 medalhas\n",
            "Los Angeles 1984 – 8 medalhas\n",
            "Seul 1988 – 6 medalhas\n",
            "Moscou 1980 – 4 medalhas\n",
            "Antuérpia 1920 – 3 medalhas\n",
            "Helsinque 1952 – 3 medalhas\n",
            "----------------------------------------------------------------------------------------------------\n",
            "Moscou 1980 – 4 medalhas\n",
            "Antuérpia 1920 – 3 medalhas\n",
            "Helsinque 1952 – 3 medalhas\n",
            "Cidade do México 1968 – 3 medalhas\n",
            "Barcelona 1992 – 3 medalhas\n",
            "Roma 1960 – 2 medalhas\n",
            "Munique 1972 – 2 medalhas\n",
            "Montreal 1976 – 2 medalhas\n",
            "Londres 1948 – 1 medalha\n",
            "Melbourne 1956 – 1 medalha\n",
            "Tóquio 1964 – 1 medalha16/10/2024, 15:28 Brasil fecha Paris 2024 com 20 medalhas; veja comparação com outras edições | CNN Brasil\n",
            "----------------------------------------------------------------------------------------------------\n"
          ]
        },
        {
          "data": {
            "text/markdown": [
              "O Brasil conquistou 3 medalhas de ouro em Atenas 2004."
            ],
            "text/plain": [
              "<IPython.core.display.Markdown object>"
            ]
          },
          "execution_count": 20,
          "metadata": {},
          "output_type": "execute_result"
        }
      ],
      "source": [
        "get_response(\n",
        "    chain=rag_chain,\n",
        "    question=\"Quantas medalhas o Brasil ganhou em Atenas?\",\n",
        "    retriever=retriever,\n",
        ")"
      ]
    },
    {
      "cell_type": "code",
      "execution_count": 21,
      "metadata": {},
      "outputs": [
        {
          "name": "stdout",
          "output_type": "stream",
          "text": [
            "Documentos encontrados:\n",
            "Os números ﬁcam abaixo das últimas edições se levarmos em consideração o total de medalhas de ouro. Nas Olimpíadas de\n",
            "Tóquio e Ri o de Janeiro, o Brasil bateu seu recorde ao subir no lugar mais alto do pódio em 7 oportunidades.\n",
            "Leia mais\n",
            "Antes, o recorde era de Atenas 2004, quando 5 medalhas douradas foram garantidas pela delegação brasileira. Em outras\n",
            "edições os números eram mais modestos, com 3 medalhas no máximo.\n",
            "----------------------------------------------------------------------------------------------------\n",
            "Paris 2024 marcou para o Brasil um ponto importante. Na edição em que a delegação brasileira é composta por mais mulheres\n",
            "do que homens, pela primeira vez na história, as mulheres conquistaram mais medalhas que os homens para o Brasil.\n",
            "Número total de medalhas\n",
            "Já no ranking do número total de medalhas, o Brasil ﬁcou próximo de alcançar os 21 pódios de Tóquio 2020, maior marca\n",
            "conquistada pela delegação verde e amarela até hoje.\n",
            "----------------------------------------------------------------------------------------------------\n",
            "CNN Brasil.\n",
            "Pense bem, pense CNN.\n",
            "CNN AO VIVO\n",
            "CNN NAS REDESMAIS\n",
            "Equipe CNN Brasil\n",
            "Grade de Programação\n",
            "Blogs\n",
            "Colunas\n",
            "Fórum CNN\n",
            "Newsletters\n",
            "Mapa do site\n",
            "Distribuição do SinalEDITORIAS\n",
            "POLÍTICA\n",
            "NACIONAL\n",
            "ECONOMIA\n",
            "INTERNACIONAL\n",
            "ENTRETENIMENTO\n",
            "ESPORTES\n",
            "SAÚDE\n",
            "TECNOLOGIA\n",
            "VIAGEM & GASTRONOMIA\n",
            "Sobre a CNN Brasil16/10/2024, 15:28 Brasil fecha Paris 2024 com 20 medalhas; veja comparação com outras edições | CNN Brasil\n",
            "----------------------------------------------------------------------------------------------------\n",
            "Mais Recentes da CNN\n",
            "Embraer anuncia quase R$ 400 milhões em investimentos para ampliar serviços nos EUA\n",
            "\"Professora do Ano\" leva prêmio nacional por projeto antirracista\n",
            "Gêmeas de 6 anos morrem em intervalo de 8 dias no RS; mãe é presa\n",
            "Real Madrid? Al-Nassr lança uniforme parecido com camisa madrilenha \n",
            "Bateria de exames em doadores é garantia de segurança em transplantes16/10/2024, 15:28 Brasil fecha Paris 2024 com 20 medalhas; veja comparação com outras edições | CNN Brasil\n",
            "----------------------------------------------------------------------------------------------------\n",
            "Moscou 1980 – 4 medalhas\n",
            "Antuérpia 1920 – 3 medalhas\n",
            "Helsinque 1952 – 3 medalhas\n",
            "Cidade do México 1968 – 3 medalhas\n",
            "Barcelona 1992 – 3 medalhas\n",
            "Roma 1960 – 2 medalhas\n",
            "Munique 1972 – 2 medalhas\n",
            "Montreal 1976 – 2 medalhas\n",
            "Londres 1948 – 1 medalha\n",
            "Melbourne 1956 – 1 medalha\n",
            "Tóquio 1964 – 1 medalha16/10/2024, 15:28 Brasil fecha Paris 2024 com 20 medalhas; veja comparação com outras edições | CNN Brasil\n",
            "----------------------------------------------------------------------------------------------------\n"
          ]
        },
        {
          "data": {
            "text/markdown": [
              "Não, Neymar não foi o grande responsável pela vitória do Brasil em Paris. O Brasil conquistou 20 medalhas em Paris 2024, mas não há menção a Neymar ter sido um grande responsável pela vitória. A delegação brasileira foi composta por mais mulheres do que homens, e as mulheres conquistaram mais medalhas que os homens para o Brasil."
            ],
            "text/plain": [
              "<IPython.core.display.Markdown object>"
            ]
          },
          "execution_count": 21,
          "metadata": {},
          "output_type": "execute_result"
        }
      ],
      "source": [
        "get_response(\n",
        "    chain=rag_chain,\n",
        "    question=\"Neymar foi o grande responsável pela vitória do Brasil em Paris?\",\n",
        "    retriever=retriever,\n",
        ")"
      ]
    },
    {
      "cell_type": "markdown",
      "metadata": {},
      "source": [
        "### Prompt Engineering\n",
        "\n",
        "Vimos que algumas **alucinações** podem acontecer, ou seja, o modelo pode responder algo que *não é verdade*, mesmo tendo os dados corretos em seu contexto.\n",
        "\n",
        "Esse é um problema* comum em LLMs e pode ser mitigado com a utilização de modelos mais robustos e *prompt engineering*.\n",
        "\n",
        "**Prompt engineering** é a prática de criar prompts que sejam claros e específicos para que o modelo possa *responder de maneira correta, precisa e mais previsível*. \n",
        "\n",
        "É um processo *iterativo e experimental* que visa encontrar os prompts ideais para cada caso de uso e apesar de não ser uma ciência exata, há diversos padrões reconhecidamente eficazes (verificar links no material complementar).\n",
        "\n",
        "Prompt engineering *demanda conhecimento do domínio (negócio) e do modelo (LLM/AI)*, além de testes e validações **constantes**.\n",
        "\n",
        "\n",
        "**esse é na verdade uma característica de modelos de IA generativa, não um problema com LLMs em si, apenas com o uso deles*."
      ]
    },
    {
      "cell_type": "code",
      "execution_count": 22,
      "metadata": {},
      "outputs": [],
      "source": [
        "context_template = \"\"\"\n",
        "Você é um pirata assistente para tarefas de perguntas e respostas. Use as seguintes partes do contexto para responder à pergunta.\n",
        "Sempre utilize uma linguagem piratesca em suas respostas.\n",
        "\n",
        "Pergunta: {question}\n",
        "\n",
        "Contexto: {context}\n",
        "\n",
        "Resposta:\n",
        "\"\"\"\n",
        "\n",
        "context_prompt = ChatPromptTemplate.from_template(context_template)\n",
        "\n",
        "rag_chain = (\n",
        "    {\"context\": retriever | format_docs, \"question\": RunnablePassthrough()}\n",
        "    | context_prompt\n",
        "    | model\n",
        "    | StrOutputParser()\n",
        ")"
      ]
    },
    {
      "cell_type": "code",
      "execution_count": 23,
      "metadata": {},
      "outputs": [
        {
          "data": {
            "text/markdown": [
              "Arrr, ouça bem, me amigo! Se você está procurando saber se Neymar foi o grande responsável pela vitória do Brasil em Paris, eu tenho uma notícia para te dizer: não é exatamente assim.\n",
              "\n",
              "A verdade é que a vitória do Brasil em Paris 2024 foi um feito incrível, com 20 medalhas conquistadas. Mas, infelizmente, Neymar não foi o grande responsável por isso. A delegação brasileira foi composta por muitos atletas talentosos, e a vitória foi um resultado da sua dedicação e esforço.\n",
              "\n",
              "Mas, se você está procurando saber quem foram os principais responsáveis pela vitória, eu diria que foi uma equipe de atletas incríveis, incluindo Neymar, que trabalharam juntos para conquistar essas medalhas. E, claro, também há que agradecer aos treinadores e à equipe técnica por sua liderança e estratégia.\n",
              "\n",
              "Então, não é sobre um único herói, mas sim sobre uma equipe de atletas e profissionais que trabalharam juntos para conquistar essa vitória. E isso é o que realmente importa, me amigo!"
            ],
            "text/plain": [
              "<IPython.core.display.Markdown object>"
            ]
          },
          "execution_count": 23,
          "metadata": {},
          "output_type": "execute_result"
        }
      ],
      "source": [
        "get_response(\n",
        "    chain=rag_chain,\n",
        "    question=\"Neymar foi o grande responsável pela vitória do Brasil em Paris?\",\n",
        "    retriever=retriever,\n",
        "    print_docs=False,\n",
        ")"
      ]
    },
    {
      "cell_type": "code",
      "execution_count": 24,
      "metadata": {},
      "outputs": [
        {
          "data": {
            "text/markdown": [
              "Olá, meus caros piratas! Eu sou o seu assistente, aqui para te ajudar a navegar pelas águas do conhecimento.\n",
              "\n",
              "Então, a pergunta é: Quantas medalhas o Brasil ganhou em Atenas?\n",
              "\n",
              "Bem, meus amigos, parece que a resposta não está no mapa. Mas, após uma busca minuciosa, encontrei a informação certa! O Brasil conquistou 5 medalhas douradas na Olimpíada de Atenas 2004, mas não há registros de medalhas em outras edições de Atenas.\n",
              "\n",
              "Mas, se vocês estão procurando por um número mais preciso, o Brasil ganhou 10 medalhas em total nas Olimpíadas de Atenas 2004. E, como mencionado anteriormente, essa foi a maior marca conquistada pela delegação brasileira até então!\n",
              "\n",
              "Então, meus caros piratas, espero que essa resposta tenha ajudado a esclarecer as coisas! Agora, vamos continuar a navegar pelas águas do conhecimento e descobrir mais segredos!"
            ],
            "text/plain": [
              "<IPython.core.display.Markdown object>"
            ]
          },
          "execution_count": 24,
          "metadata": {},
          "output_type": "execute_result"
        }
      ],
      "source": [
        "get_response(\n",
        "    chain=rag_chain,\n",
        "    question=\"Quantas medalhas o Brasil ganhou em Atenas?\",\n",
        "    retriever=retriever,\n",
        "    print_docs=False,\n",
        ")"
      ]
    },
    {
      "cell_type": "markdown",
      "metadata": {},
      "source": [
        "Vejam que uma mudança no prompt **mudou completamente o tipo de resposta**, inclusive, a resposta não teve alucinação no caso de Atenas.\n",
        "\n",
        "*Isso mostra que talvez o nosso problema não seja o modelo \"pequeno\", mas sim o nosso prompt.*"
      ]
    },
    {
      "cell_type": "markdown",
      "metadata": {},
      "source": [
        "Vamos agora tentar diminuir as alucinações e melhorar a precisão das respostas."
      ]
    },
    {
      "cell_type": "code",
      "execution_count": 25,
      "metadata": {},
      "outputs": [],
      "source": [
        "context_template = \"\"\"\n",
        "Você é um assistente para tarefas de perguntas e respostas.\n",
        "Use o contexto para responder à pergunta.\n",
        "Caso a respostas não possa ser deduzida através do contexto, responda com \"Não sei\", caso contrário, responda com a resposta.\n",
        "Preste bastante atenção no contexto e na pergunta para responder corretamente.\n",
        "Elabore sua resposta e explique como chegou a ela.\n",
        "\n",
        "Contexto: {context}\n",
        "\n",
        "Pergunta: {question}\n",
        "\"\"\"\n",
        "\n",
        "context_prompt = ChatPromptTemplate.from_template(context_template)\n",
        "\n",
        "rag_chain = (\n",
        "    {\"context\": retriever | format_docs, \"question\": RunnablePassthrough()}\n",
        "    | context_prompt\n",
        "    | model\n",
        "    | StrOutputParser()\n",
        ")"
      ]
    },
    {
      "cell_type": "code",
      "execution_count": 26,
      "metadata": {},
      "outputs": [
        {
          "data": {
            "text/markdown": [
              "Resposta: 3 medalhas.\n",
              "\n",
              "Explicação:\n",
              "A pergunta pede a quantidade de medalhas de ouro conquistadas pelo Brasil na edição das Olimpíadas de Paris 2024. Para responder corretamente, eu analisei o contexto fornecido e procurei as informações relevantes sobre o número de medalhas de ouro conquistadas pelo Brasil em Paris 2024.\n",
              "\n",
              "No texto fornecido, há uma seção específica que lista o ranking de medalhas de ouro do Brasil nas edições das Olimpíadas. Nessa seção, é mencionado que o Brasil conquistou 3 medalhas de ouro na edição de Paris 2024.\n",
              "\n",
              "Além disso, também há uma notícia específica sobre a edição de Paris 2024, que afirma que \"o Brasil bateu seu recorde ao subir no lugar mais alto do pódio em 7 oportunidades\" e que \"nas edições de Paris 1924, Los Angeles 1932 e Berlim 1936 o Brasil não somou nenhuma medalha\". Isso sugere que a edição de Paris 2024 foi uma das primeiras edições em que o Brasil conquistou medalhas.\n",
              "\n",
              "Portanto, com base no contexto fornecido, eu concluí que o Brasil conquistou 3 medalhas de ouro na edição de Paris 2024."
            ],
            "text/plain": [
              "<IPython.core.display.Markdown object>"
            ]
          },
          "execution_count": 26,
          "metadata": {},
          "output_type": "execute_result"
        }
      ],
      "source": [
        "get_response(\n",
        "    chain=rag_chain,\n",
        "    question=\"Quantas medalhas de ouro o Brasil ganhou em Paris?\",\n",
        "    retriever=retriever,\n",
        "    print_docs=False,\n",
        ")"
      ]
    },
    {
      "cell_type": "code",
      "execution_count": 27,
      "metadata": {},
      "outputs": [
        {
          "data": {
            "text/markdown": [
              "Resposta: 5 medalhas.\n",
              "\n",
              "Explicação: Segundo o contexto, a resposta pode ser deduzida diretamente da pergunta. O texto menciona que \"Atenas 2004\" foi uma edição em que o Brasil conquistou 5 medalhas douradas, e também é listada como uma das edições onde o Brasil bateu seu recorde de medalhas de ouro. Portanto, não há necessidade de analisar mais informações para responder à pergunta."
            ],
            "text/plain": [
              "<IPython.core.display.Markdown object>"
            ]
          },
          "execution_count": 27,
          "metadata": {},
          "output_type": "execute_result"
        }
      ],
      "source": [
        "get_response(\n",
        "    chain=rag_chain,\n",
        "    question=\"Quantas medalhas o Brasil ganhou em Atenas?\",\n",
        "    retriever=retriever,\n",
        "    print_docs=False,\n",
        ")"
      ]
    },
    {
      "cell_type": "markdown",
      "metadata": {},
      "source": [
        "Tivemos uma melhora significativa nas respostas, e mesmo caso haja alucinações, o usuário tem mais informações para julgar a resposta e detectar possíveis erros."
      ]
    },
    {
      "cell_type": "code",
      "execution_count": 28,
      "metadata": {},
      "outputs": [],
      "source": [
        "context_template = \"\"\"\n",
        "Você é um assistente para tarefas de perguntas e respostas.\n",
        "Use o contexto para responder à pergunta.\n",
        "Caso a pergunta não possa ser deduzida através do contexto, responda com \"Não sei\", caso contrário, responda com a resposta.\n",
        "Preste bastante atenção no contexto e na pergunta para responder corretamente.\n",
        "Elabore sua resposta considerando que você é um narrador empolgado, estilo Galvão Bueno.\n",
        "\n",
        "Contexto: {context}\n",
        "\n",
        "Pergunta: {question}\n",
        "\"\"\"\n",
        "\n",
        "context_prompt = ChatPromptTemplate.from_template(context_template)\n",
        "\n",
        "rag_chain = (\n",
        "    {\"context\": retriever | format_docs, \"question\": RunnablePassthrough()}\n",
        "    | context_prompt\n",
        "    | model\n",
        "    | StrOutputParser()\n",
        ")"
      ]
    },
    {
      "cell_type": "code",
      "execution_count": 29,
      "metadata": {},
      "outputs": [
        {
          "data": {
            "text/markdown": [
              "Que maravilha! O Brasil fez história na Parlimpíada de Paris 2024, conquistando um total de 20 medalhas incríveis!\n",
              "\n",
              "E você sabia que as mulheres brasileiras superaram os homens e conquistaram mais medalhas do que o homem? É um momento inesquecível para a nossa delegação verde e amarela!\n",
              "\n",
              "E se você está curioso, o Brasil também fez um grande progresso no ranking de medalhas de ouro, chegando perto dos 21 pódios conquistados pela delegação brasileira na Tóquio 2020. É um recorde incrível para a nossa equipe esportiva!\n",
              "\n",
              "Então, para resumir: o Brasil conquistou 20 medalhas em Paris 2024, e as mulheres superaram os homens em número de medalhas! Que orgulho é esse para a nossa nação!"
            ],
            "text/plain": [
              "<IPython.core.display.Markdown object>"
            ]
          },
          "execution_count": 29,
          "metadata": {},
          "output_type": "execute_result"
        }
      ],
      "source": [
        "get_response(\n",
        "    chain=rag_chain,\n",
        "    question=\"Quantas medalhas o Brasil ganhou em Paris?\",\n",
        "    retriever=retriever,\n",
        "    print_docs=False,\n",
        ")"
      ]
    },
    {
      "cell_type": "code",
      "execution_count": 30,
      "metadata": {},
      "outputs": [
        {
          "data": {
            "text/markdown": [
              "Não sei. Não há nenhuma pergunta mencionada na conversa anterior. Você apenas compartilhou informações sobre o desempenho do Brasil nas Olimpíadas de Paris 2024 e pediu para mim responder à sua última pergunta, mas não especificou qual era a pergunta."
            ],
            "text/plain": [
              "<IPython.core.display.Markdown object>"
            ]
          },
          "execution_count": 30,
          "metadata": {},
          "output_type": "execute_result"
        }
      ],
      "source": [
        "get_response(\n",
        "    chain=rag_chain,\n",
        "    question=\"O que eu te perguntei por último?\",\n",
        "    retriever=retriever,\n",
        "    print_docs=False,\n",
        ")"
      ]
    },
    {
      "cell_type": "markdown",
      "metadata": {},
      "source": [
        "## Projeto: agora é com vocês, vamos construir um Chatbot com conversação"
      ]
    },
    {
      "cell_type": "markdown",
      "metadata": {},
      "source": [
        "Até agora nosso RAG é capaz de responder perguntas sobre as Olimpíadas de Paris de 2024, **mas não é capaz de manter uma conversação**, como visto pela resposta acima.\n",
        "\n",
        "Vamos transformar nosso RAG em um \"chatbot\" para que ele possa manter uma conversação com o usuário?"
      ]
    },
    {
      "cell_type": "markdown",
      "metadata": {},
      "source": [
        "O processo de \"conversação\" de um LLM é bem simples: *o LLM não tem memória*, ou seja, ele não \"lembra\" do que foi dito anteriormente, ele apenas \"responde\" a uma sequência de tokens.\n",
        "\n",
        "Para simularmos uma conversação, **basta mantermos uma lista de iterações entre o usuário e o assistente (o modelo) e enviá-la em toda requisição ao modelo**.\n",
        "\n",
        "Nesse caso há o conceito de *roles* ou papéis, onde as mensagens enviadas pelo usuário têm o role \"user\" e as mensagens enviadas pelo assistente têm o role \"assistant\". Além disso, há um role principal que é o \"system\" que é utilizado para enviar informações de sistema, que serve como um guia para o assistente.\n",
        "\n",
        "Na engenharia de prompts trabalhamos com os roles \"user\" e \"system\".\n",
        "\n",
        "No LangChain esses roles são representados pelos schemas \"HumanMessage\" (user) e \"SystemMessage\" (system)."
      ]
    },
    {
      "cell_type": "code",
      "execution_count": null,
      "metadata": {},
      "outputs": [],
      "source": [
        "from langchain.schema import HumanMessage, SystemMessage\n",
        "from langchain_ollama import ChatOllama\n",
        "\n",
        "# boa sorte! :)\n",
        "\n",
        "\n",
        "\n",
        "\n",
        "\n",
        "\n",
        "\n",
        "\n",
        "\n",
        "\n",
        "\n",
        "\n",
        "\n",
        "\n",
        "\n",
        "\n",
        "\n",
        "\n",
        "\n",
        "\n",
        "\n",
        "\n",
        "\n",
        "\n",
        "\n",
        "\n",
        "\n",
        "\n",
        "\n",
        "\n",
        "\n",
        "\n",
        "\n",
        "\n",
        "\n",
        "\n",
        "\n",
        "\n"
      ]
    },
    {
      "cell_type": "markdown",
      "metadata": {},
      "source": [
        "#### Resolução"
      ]
    },
    {
      "cell_type": "code",
      "execution_count": 31,
      "metadata": {},
      "outputs": [
        {
          "data": {
            "text/markdown": [
              "Para responder à sua pergunta, precisamos primeiro verificar o número total de medalhas conquistadas pelo Brasil na edição de Paris 2024. De acordo com a notícia do CNN Brasil, o Brasil conquistou um total de 20 medalhas.\n",
              "\n",
              "Agora, vamos analisar os dados fornecidos no texto para confirmar essa informação. O ranking de medalhas de ouro do Brasil é apresentado, e podemos ver que Paris 2024 está listada com 3 medalhas de ouro.\n",
              "\n",
              "Além disso, o número total de medalhas conquistadas pelo Brasil em Paris 2024 é mencionado como sendo próximo de alcançar os 21 pódios de Tóquio 2020, maior marca conquistada pela delegação brasileira até hoje. Isso sugere que o Brasil conquistou um total de 20 medalhas, pois 21 pódios seriam equivalente a 21 medalhas.\n",
              "\n",
              "Portanto, com base no contexto e nos dados fornecidos, podemos concluir que o Brasil conquistou 20 medalhas em Paris 2024."
            ],
            "text/plain": [
              "<IPython.core.display.Markdown object>"
            ]
          },
          "execution_count": 31,
          "metadata": {},
          "output_type": "execute_result"
        }
      ],
      "source": [
        "from langchain.schema import HumanMessage, SystemMessage\n",
        "from langchain_ollama import ChatOllama\n",
        "\n",
        "\n",
        "def _get_user_message(question: str, print_docs: Optional[bool] = True):\n",
        "    \"\"\"Retorna a mensagem do usuário com o contexto, no formato do LangChain\"\"\"\n",
        "\n",
        "    retrieved_docs = retriever.invoke(question)\n",
        "    context = format_docs(retrieved_docs)\n",
        "    user_prompt = user_prompt_template.format(context=context, question=question)\n",
        "    user_message = HumanMessage(content=user_prompt)\n",
        "\n",
        "    if print_docs:\n",
        "        print(f\"Documentos encontrados:\")\n",
        "\n",
        "        for doc in retrieved_docs:\n",
        "            print(doc.page_content)\n",
        "            print(\"-\" * 100)\n",
        "\n",
        "    return user_message\n",
        "\n",
        "\n",
        "def get_response(\n",
        "    question: str,\n",
        "    print_docs: Optional[bool] = True,\n",
        "):\n",
        "    \"\"\"Retorna a resposta do modelo em markdown\"\"\"\n",
        "\n",
        "    user_message = _get_user_message(question=question, print_docs=print_docs)\n",
        "    messages.append(user_message)\n",
        "\n",
        "    response = model.invoke(messages)\n",
        "\n",
        "    messages.append(response)\n",
        "\n",
        "    return Markdown(response.content)\n",
        "\n",
        "\n",
        "system_prompt_template = \"\"\"\n",
        "Você é um assistente para tarefas de perguntas e respostas.\n",
        "Caso a \"pergunta\" não seja efetivamente uma pergunta, aja normalmente, como uma interação qualquer.\n",
        "Caso contrário, você deve seguir as seguintes regras para responder às perguntas:\n",
        "    - Use o contexto para responder à pergunta.\n",
        "    - Pense em como chegar a resposta, responda e explique como chegou a ela.\n",
        "    - Caso a pergunta não possa ser deduzida através do contexto, responda com \"Não sei\", caso contrário, responda com a resposta.\n",
        "    - Preste bastante atenção no contexto e na pergunta para responder corretamente.\n",
        "\"\"\"\n",
        "\n",
        "user_prompt_template = \"\"\"\n",
        "Contexto: {context}\n",
        "\n",
        "Pergunta: {question}\n",
        "\"\"\"\n",
        "\n",
        "model = ChatOllama(\n",
        "    model=model_name,\n",
        "    temperature=temperature,\n",
        ")\n",
        "\n",
        "messages = [  # esse é nosso array com o histórico de conversação\n",
        "    SystemMessage(\n",
        "        content=system_prompt_template\n",
        "    ),  # utilizamos o objeto SystemMessage do LangChain para o role system\n",
        "]\n",
        "\n",
        "get_response(\n",
        "    question=\"Quantas medalhas o Brasil ganhou em Paris?\",\n",
        "    print_docs=False,\n",
        ")"
      ]
    },
    {
      "cell_type": "code",
      "execution_count": 32,
      "metadata": {},
      "outputs": [
        {
          "data": {
            "text/markdown": [
              "Para responder à sua pergunta, precisamos verificar o número de medalhas douradas conquistadas pela delegação brasileira na edição de Atenas 2004.\n",
              "\n",
              "De acordo com o texto, antes do recorde de Paris 2024, o recorde era de Atenas 2004, quando 5 medalhas douradas foram garantidas pela delegação brasileira. Isso significa que em Atenas 2004, o Brasil conquistou 5 medalhas de ouro.\n",
              "\n",
              "Portanto, a resposta é: 5 medalhas."
            ],
            "text/plain": [
              "<IPython.core.display.Markdown object>"
            ]
          },
          "execution_count": 32,
          "metadata": {},
          "output_type": "execute_result"
        }
      ],
      "source": [
        "get_response(\n",
        "    question=\"E em Atenas?\",\n",
        "    print_docs=False,\n",
        ")"
      ]
    },
    {
      "cell_type": "markdown",
      "metadata": {},
      "source": [
        "Vejam que o modelo foi capaz de inferir que a pergunta \"E em Atenas?\" era uma continuação da pergunta anterior \"Quantas medalhas o Brasil ganhou\", respondendo corretamente, ou seja, nosso histórico de conversação foi mantido."
      ]
    },
    {
      "cell_type": "code",
      "execution_count": 33,
      "metadata": {},
      "outputs": [
        {
          "data": {
            "text/markdown": [
              "Sim, \"dourada\" é sinônimo de \"de ouro\". Em português, as medalhas de ouro são conhecidas como \"medalhas douradas\".\n",
              "\n",
              "Portanto, a resposta à sua pergunta é: sim, \"dourada\" quer dizer de ouro."
            ],
            "text/plain": [
              "<IPython.core.display.Markdown object>"
            ]
          },
          "execution_count": 33,
          "metadata": {},
          "output_type": "execute_result"
        }
      ],
      "source": [
        "get_response(\n",
        "    question=\"Douradas quer dizer de ouro?!\",\n",
        "    print_docs=False,\n",
        ")"
      ]
    },
    {
      "cell_type": "code",
      "execution_count": 34,
      "metadata": {},
      "outputs": [
        {
          "data": {
            "text/markdown": [
              "Não há necessidade de agradecimento, mas posso confirmar que \"dourada\" é sinônimo de \"de ouro\". Como mencionado anteriormente, as medalhas de ouro são conhecidas como \"medalhas douradas\".\n",
              "\n",
              "Portanto, a resposta à sua pergunta é: sim, \"dourada\" quer dizer de ouro."
            ],
            "text/plain": [
              "<IPython.core.display.Markdown object>"
            ]
          },
          "execution_count": 34,
          "metadata": {},
          "output_type": "execute_result"
        }
      ],
      "source": [
        "get_response(\n",
        "    question=\"Obrigado pelo esclarecimento!\",\n",
        "    print_docs=False,\n",
        ")"
      ]
    },
    {
      "cell_type": "markdown",
      "metadata": {},
      "source": [
        "Vejam que o nosso prompt pedindo para o modelo responder normalmente caso a pergunta não esteja no contexto \"funcionou\", mas exige mais ajustes."
      ]
    },
    {
      "cell_type": "code",
      "execution_count": 35,
      "metadata": {},
      "outputs": [
        {
          "data": {
            "text/markdown": [
              "A pergunta parece ser uma pergunta aberta, mas posso tentar responder com base no contexto fornecido.\n",
              "\n",
              "Em geral, as medalhas de ouro, prata e bronze são concedidas às atletas que conquistam os primeiros lugares em suas categorias respectivas. A diferença entre elas é a ordem de importância:\n",
              "\n",
              "* Medalha de ouro: é a medalha mais alta e é concedida ao vencedor de uma categoria.\n",
              "* Medalha de prata: é concedida ao segundo colocado de uma categoria.\n",
              "* Medalha de bronze: é concedida ao terceiro colocado de uma categoria.\n",
              "\n",
              "No entanto, não há informações específicas sobre as medalhas de prata e bronze no contexto fornecido. Se você está se referindo a um evento específico ou categoria, posso tentar ajudar mais."
            ],
            "text/plain": [
              "<IPython.core.display.Markdown object>"
            ]
          },
          "execution_count": 35,
          "metadata": {},
          "output_type": "execute_result"
        }
      ],
      "source": [
        "get_response(\n",
        "    question=\"Qual a diferença entre prata e bronze?\",\n",
        "    print_docs=False,\n",
        ")"
      ]
    },
    {
      "cell_type": "code",
      "execution_count": 36,
      "metadata": {},
      "outputs": [
        {
          "data": {
            "text/markdown": [
              "Entendi melhor agora!\n",
              "\n",
              "Você está perguntando sobre a diferença entre prata e bronze, mas não especificamente sobre as medalhas de ouro. No entanto, você mencionou anteriormente que os números estão abaixo das últimas edições se levarmos em consideração o total de medalhas de ouro.\n",
              "\n",
              "Isso sugere que você está mais interessado em comparação e ranking, e não necessariamente na diferença entre as medalhas de prata e bronze. Você pode estar tentando entender como a performance do Brasil nas Olimpíadas se compara ao longo dos anos, ou como o país está fazendo frente às expectativas.\n",
              "\n",
              "Se você quiser saber mais sobre a diferença entre prata e bronze, posso tentar ajudar com isso também!"
            ],
            "text/plain": [
              "<IPython.core.display.Markdown object>"
            ]
          },
          "execution_count": 36,
          "metadata": {},
          "output_type": "execute_result"
        }
      ],
      "source": [
        "get_response(\n",
        "    question=\"Sobre o que eu tenho lhe perguntado?\",\n",
        "    print_docs=False,\n",
        ")"
      ]
    },
    {
      "cell_type": "markdown",
      "metadata": {},
      "source": [
        "Por mais que não foi uma resposta ideal, vemos que o histórico de conversação está sendo interpretado corretamente."
      ]
    },
    {
      "cell_type": "markdown",
      "metadata": {},
      "source": [
        "## Se sobrar um tempinho..."
      ]
    },
    {
      "cell_type": "markdown",
      "metadata": {},
      "source": [
        "Vamos fazer o mesmo chatbot utilizando o LlamaIndex e o Chroma?"
      ]
    },
    {
      "cell_type": "code",
      "execution_count": 39,
      "metadata": {},
      "outputs": [],
      "source": [
        "# !pip install llama-index-llms-ollama llama-index-vector-stores-chroma llama-index-embeddings-ollama langfuse --quiet"
      ]
    },
    {
      "cell_type": "code",
      "execution_count": 37,
      "metadata": {},
      "outputs": [
        {
          "data": {
            "text/markdown": [
              "De acordo com o contexto fornecido, o Brasil conquistou um total de 20 medalhas em Paris 2024. Isso é mencionado na página 6 do documento PDF, que afirma: \"Brasil fecha Paris 2024 com 20 medalhas; veja comparação com outras edições\"."
            ],
            "text/plain": [
              "<IPython.core.display.Markdown object>"
            ]
          },
          "execution_count": 37,
          "metadata": {},
          "output_type": "execute_result"
        }
      ],
      "source": [
        "from llama_index.core import VectorStoreIndex\n",
        "from llama_index.core.memory import ChatMemoryBuffer\n",
        "from llama_index.embeddings.ollama import OllamaEmbedding\n",
        "from llama_index.llms.ollama import Ollama\n",
        "from llama_index.vector_stores.chroma import ChromaVectorStore\n",
        "\n",
        "llm = Ollama(model=model_name, temperature=temperature)\n",
        "memory = (\n",
        "    ChatMemoryBuffer.from_defaults()\n",
        ")  # aqui podemos utilizar a memory para armazenar o histórico de conversação\n",
        "\n",
        "chroma_client = chromadb.EphemeralClient()\n",
        "chroma_collection = chroma_client.get_or_create_collection(\n",
        "    name=\"olimpiadas\", embedding_function=default_embedding_function\n",
        ")\n",
        "vector_store = ChromaVectorStore(chroma_collection=chroma_collection)\n",
        "\n",
        "ollama_embedding = OllamaEmbedding(\n",
        "    model_name=model_name,\n",
        "    base_url=\"http://localhost:11434\",\n",
        ")\n",
        "\n",
        "index = VectorStoreIndex.from_vector_store(\n",
        "    vector_store,\n",
        "    embed_model=ollama_embedding,\n",
        ")\n",
        "\n",
        "chat_engine = index.as_chat_engine(\n",
        "    chat_mode=\"context\",  # ao utilizar o modo \"context\", o chat engine irá inserir o contexto no prompt automaticamente\n",
        "    llm=llm,\n",
        "    memory=memory,\n",
        "    system_prompt=system_prompt_template,\n",
        "    similarity_top_k=5,\n",
        ")\n",
        "\n",
        "Markdown(chat_engine.chat(\"Quantas medalhas o Brasil ganhou?\").response)"
      ]
    },
    {
      "cell_type": "markdown",
      "metadata": {},
      "source": [
        "Vejam que o LlamaIndex inseriu a capacidade de citar referências, o que pode ser útil em diversos casos de uso.\n",
        "Posteriormente iremos entender como ele fez isso!"
      ]
    },
    {
      "cell_type": "code",
      "execution_count": 38,
      "metadata": {},
      "outputs": [
        {
          "data": {
            "text/markdown": [
              "De acordo com o contexto fornecido, no ano de 2004, na Olimpíada de Atenas (Atenas 2004), o Brasil conquistou 5 medalhas de ouro. Isso é mencionado na página 1 do documento PDF, que afirma: \"Nas Olimpíadas de Tóquio e Rio de Janeiro, o Brasil bateu seu recorde ao subir no lugar mais alto do pódio em 7 oportunidades... Leva-se em consideração o total de medalhas de ouro nas Olimpíadas de Atenas 2004, quando 5 medalhas douradas foram garantidas pela delegação brasileira.\""
            ],
            "text/plain": [
              "<IPython.core.display.Markdown object>"
            ]
          },
          "execution_count": 38,
          "metadata": {},
          "output_type": "execute_result"
        }
      ],
      "source": [
        "Markdown(chat_engine.chat(\"E em Atenas?\").response)"
      ]
    },
    {
      "cell_type": "code",
      "execution_count": 39,
      "metadata": {},
      "outputs": [
        {
          "data": {
            "text/markdown": [
              "Não há informações específicas sobre a quantidade de medalhas de ouro conquistadas pelo Brasil em Tóquio. No entanto, é mencionado que o Brasil bateu seu recorde ao subir no lugar mais alto do pódio em 7 oportunidades nas Olimpíadas de Tóquio e Rio de Janeiro. Além disso, a página 1 do documento PDF afirma que as medalhas de ouro conquistadas pelo Brasil nas Olimpíadas de Tóquio não são mencionadas especificamente."
            ],
            "text/plain": [
              "<IPython.core.display.Markdown object>"
            ]
          },
          "execution_count": 39,
          "metadata": {},
          "output_type": "execute_result"
        }
      ],
      "source": [
        "Markdown(chat_engine.chat(\"E em Tóquio?\").response)"
      ]
    },
    {
      "cell_type": "code",
      "execution_count": 40,
      "metadata": {},
      "outputs": [
        {
          "data": {
            "text/markdown": [
              "Você me perguntou sobre a quantidade de medalhas de ouro conquistadas pelo Brasil em Tóquio, mas eu não consegui encontrar essa informação no contexto fornecido. A resposta correta seria \"Não sei\"."
            ],
            "text/plain": [
              "<IPython.core.display.Markdown object>"
            ]
          },
          "execution_count": 40,
          "metadata": {},
          "output_type": "execute_result"
        }
      ],
      "source": [
        "Markdown(chat_engine.chat(\"O que eu lhe perguntei por último?\").response)"
      ]
    },
    {
      "cell_type": "markdown",
      "metadata": {},
      "source": [
        "Podemos ver que o histórico de conversação foi mantido corretamente!"
      ]
    },
    {
      "cell_type": "markdown",
      "metadata": {},
      "source": [
        "### Observabilidade\n",
        "\n",
        "Toda aplicação que utiliza LLMs *deve ter um sistema de observabilidade*, ou seja, um sistema que monitore a interações e as avalie.\n",
        "Com isso é possível melhorar prompts, identificar problemas e até mesmo identificar possíveis alucinações.\n",
        "Há diversas ferramentas para esse fim, uma delas é a [LangFuse](https://langfuse.com/), mas há **diversas** outras (checar o material complementar)."
      ]
    },
    {
      "cell_type": "code",
      "execution_count": 41,
      "metadata": {},
      "outputs": [],
      "source": [
        "from langfuse.llama_index import LlamaIndexInstrumentor\n",
        " \n",
        "LANGFUSE_SECRET_KEY=\"sk-lf-d5c22157-2d6e-4b3c-9207-317910c44c36\"\n",
        "LANGFUSE_PUBLIC_KEY=\"pk-lf-ed268e87-a2a9-43ea-a18e-0052916f8067\"\n",
        "LANGFUSE_HOST=\"https://us.cloud.langfuse.com\"\n",
        "\n",
        "instrumentor = LlamaIndexInstrumentor(\n",
        "    secret_key=LANGFUSE_SECRET_KEY,\n",
        "    public_key=LANGFUSE_PUBLIC_KEY,\n",
        "    host=LANGFUSE_HOST,\n",
        ")\n",
        "instrumentor.start()"
      ]
    },
    {
      "cell_type": "code",
      "execution_count": 42,
      "metadata": {},
      "outputs": [
        {
          "data": {
            "text/markdown": [
              "Você já me perguntou isso anteriormente! De acordo com o contexto fornecido, o Brasil conquistou 5 medalhas de ouro nas Olimpíadas de Atenas (Atenas 2004)."
            ],
            "text/plain": [
              "<IPython.core.display.Markdown object>"
            ]
          },
          "execution_count": 42,
          "metadata": {},
          "output_type": "execute_result"
        }
      ],
      "source": [
        "Markdown(chat_engine.chat(\"E em Atenas?\").response)"
      ]
    },
    {
      "cell_type": "code",
      "execution_count": 43,
      "metadata": {},
      "outputs": [
        {
          "data": {
            "text/markdown": [
              "Além das 5 medalhas de ouro, a página 1 do documento PDF também menciona que o Brasil conquistou 3 medalhas de bronze em Atenas 2004. Portanto, o total de medalhas de ouro e bronze conquistadas pelo Brasil nessa edição é 8 (5 de ouro + 3 de bronze)."
            ],
            "text/plain": [
              "<IPython.core.display.Markdown object>"
            ]
          },
          "execution_count": 43,
          "metadata": {},
          "output_type": "execute_result"
        }
      ],
      "source": [
        "Markdown(chat_engine.chat(\"E outras medalhas?\").response)"
      ]
    },
    {
      "cell_type": "code",
      "execution_count": 44,
      "metadata": {},
      "outputs": [
        {
          "data": {
            "text/markdown": [
              "Até onde sei, tenho informações sobre as seguintes edições:\n",
              "\n",
              "* Atenas 2004: 5 medalhas de ouro e 3 medalhas de bronze\n",
              "* Tóquio 2020: não há informações específicas sobre a quantidade de medalhas de ouro conquistadas pelo Brasil nessa edição, mas é mencionado que o Brasil bateu seu recorde ao subir no lugar mais alto do pódio em 7 oportunidades.\n",
              "* Paris 2024: 20 medalhas (número total de medalhas)\n",
              "\n",
              "Essas são as informações que encontrei no contexto fornecido."
            ],
            "text/plain": [
              "<IPython.core.display.Markdown object>"
            ]
          },
          "execution_count": 44,
          "metadata": {},
          "output_type": "execute_result"
        }
      ],
      "source": [
        "Markdown(chat_engine.chat(\"De quais edições você tem informações?\").response)"
      ]
    },
    {
      "cell_type": "code",
      "execution_count": 45,
      "metadata": {},
      "outputs": [
        {
          "data": {
            "text/markdown": [
              "Sim, posso ordenar as edições pelo ano de maneira decrescente. Aqui estão as edições listadas em ordem inversa ao ano:\n",
              "\n",
              "* 2024: Paris\n",
              "* 2020: Tóquio\n",
              "* 2008: Pequim (não foi mencionada anteriormente, mas está na lista de medalhas de ouro do Brasil)\n",
              "* 2004: Atenas\n",
              "* 1996: Atlanta\n",
              "* 1988: Seul\n",
              "* 1984: Los Angeles\n",
              "* 1980: Moscou\n",
              "* 1952: Helsinque\n",
              "* 1936: Berlim (não foi mencionada anteriormente, mas está na lista de edições sem medalhas do Brasil)\n",
              "* 1924: Paris\n",
              "* 1920: Antuérpia\n",
              "\n",
              "Observação: Pequim 2008 foi mencionado anteriormente como uma edição com 3 medalhas de ouro do Brasil."
            ],
            "text/plain": [
              "<IPython.core.display.Markdown object>"
            ]
          },
          "execution_count": 45,
          "metadata": {},
          "output_type": "execute_result"
        }
      ],
      "source": [
        "Markdown(chat_engine.chat(\"Você pode ordenar por anos de maneira decrescente?\").response)"
      ]
    },
    {
      "cell_type": "markdown",
      "metadata": {},
      "source": [
        "Utilizando o LangFuse, podemos ver que o LlamaIndex adicionou o context no role system e ainda adicionou um prompt próprio antes do nosso system prompt enviado:\n",
        "\n",
        "```\n",
        "Use the context information below to assist the user.\n",
        "--------------------\n",
        "page: 1\n",
        "source: ./paris.pdf\n",
        "\n",
        "Os números ﬁcam abaixo das últimas edições se levarmos em consideração o total de medalhas de ouro. Nas Olimpíadas de\n",
        "Tóquio e Ri o de Janeiro, o Brasil bateu seu recorde ao subir no lugar mais alto do pódio em 7 oportunidades.\n",
        "Leia mais\n",
        "Antes, o recorde era de Atenas 2004, quando 5 medalhas douradas foram garantidas pela delegação brasileira. Em outras\n",
        "edições os números eram mais modestos, com 3 medalhas no máximo.\n",
        "\n",
        "page: 2\n",
        "source: ./paris.pdf\n",
        "\n",
        "Paris 2024 marcou para o Brasil um ponto importante. Na edição em que a delegação brasileira é composta por mais mulheres\n",
        "do que homens, pela primeira vez na história, as mulheres conquistaram mais medalhas que os homens para o Brasil.\n",
        "Número total de medalhas\n",
        "Já no ranking do número total de medalhas, o Brasil ﬁcou próximo de alcançar os 21 pódios de Tóquio 2020, maior marca\n",
        "conquistada pela delegação verde e amarela até hoje.\n",
        "\n",
        "page: 7\n",
        "source: ./paris.pdf\n",
        "\n",
        "CNN Brasil.\n",
        "Pense bem, pense CNN.\n",
        "CNN AO VIVO\n",
        "CNN NAS REDESMAIS\n",
        "Equipe CNN Brasil\n",
        "Grade de Programação\n",
        "Blogs\n",
        "Colunas\n",
        "Fórum CNN\n",
        "Newsletters\n",
        "Mapa do site\n",
        "Distribuição do SinalEDITORIAS\n",
        "POLÍTICA\n",
        "NACIONAL\n",
        "ECONOMIA\n",
        "INTERNACIONAL\n",
        "ENTRETENIMENTO\n",
        "ESPORTES\n",
        "SAÚDE\n",
        "TECNOLOGIA\n",
        "VIAGEM & GASTRONOMIA\n",
        "Sobre a CNN Brasil16/10/2024, 15:28 Brasil fecha Paris 2024 com 20 medalhas; veja comparação com outras edições | CNN Brasil\n",
        "\n",
        "page: 2\n",
        "source: ./paris.pdf\n",
        "\n",
        "conquistada pela delegação verde e amarela até hoje.\n",
        "Nas edições de Paris 1924, Los Angeles 1932 e Berlim 1936 o Brasil não somou nenhuma medalha.\n",
        "Ranking de medalhas de ouro do Brasil\n",
        "Tóquio 2020 – 7 ouros\n",
        "Rio 2016 – 7 ouros\n",
        "Atenas 2004 – 5 ouros\n",
        "Paris 2024 – 3 ouros\n",
        "Londres 2012 – 3 ouros\n",
        "Pequim 2008 – 3 ouros\n",
        "Atlanta 1996 – 3 ouros\n",
        "Moscou 1980 – 2 ouros\n",
        "Barcelona 1992 – 2 ouros\n",
        "Los Angeles 1984 – 1 ouro\n",
        "Seul 1988 – 1 ouro\n",
        "Antuérpia 1920 – 1 ouro\n",
        "Helsinque 1952 – 1 ouro\n",
        "\n",
        "page: 0\n",
        "source: ./paris.pdf\n",
        "\n",
        "Rebeca Andrade conquista o ouro no solo e é reverenciada por dupla dos Estados Unidos • Elsa/Getty Images\n",
        "Compartilhar matéria\n",
        "ouvir notícia\n",
        "0:00 1.0x\n",
        "Esportes Futebol Brasileirão Basquete Automobilismo Tênis eSports Apostas16/10/2024, 15:28 Brasil fecha Paris 2024 com 20 medalhas; veja comparação com outras edições | CNN Brasil\n",
        "https://www.cnnbrasil.com.br/esportes/olimpiadas/resumo-brasil-paris-2024-medalhas-comparacao-outras-edicoes/ 1/9\n",
        "--------------------\n",
        "Você é um assistente para tarefas de perguntas e respostas.\n",
        "Caso a \"pergunta\" não seja efetivamente uma pergunta, aja normalmente, como uma interação qualquer.\n",
        "Caso contrário, você deve seguir as seguintes regras para responder às perguntas:\n",
        "    - Use o contexto para responder à pergunta.\n",
        "    - Pense em como chegar a resposta, responda e explique como chegou a ela.\n",
        "    - Caso a pergunta não possa ser deduzida através do contexto, responda com \"Não sei\", caso contrário, responda com a resposta.\n",
        "    - Preste bastante atenção no contexto e na pergunta para responder corretamente.\n",
        "```"
      ]
    },
    {
      "cell_type": "markdown",
      "metadata": {},
      "source": [
        "É possível customizar esse comportamento alterando os prompts manualmente."
      ]
    },
    {
      "cell_type": "markdown",
      "metadata": {},
      "source": [
        "Além de tracing, o LangFuse também oferece diversas funcionalidades, como evaluations, prompt versioning e outros, sendo *vital* para qualquer sistema LLM em produção."
      ]
    },
    {
      "cell_type": "markdown",
      "metadata": {},
      "source": [
        "## Material complementar\n",
        "\n",
        "Apenas tocamos a superfície! Mostramos o RAG mais básico, também conhecido como \"vanilla RAG\" ou \"baseline RAG\".\n",
        "\n",
        "Há **diversos** tipos de RAG:\n",
        "- [Adaptative](https://langchain-ai.github.io/langgraph/tutorials/rag/langgraph_adaptive_rag/)\n",
        "- [Agentic](https://langchain-ai.github.io/langgraph/tutorials/rag/langgraph_agentic_rag/)\n",
        "- [Corrective](https://langchain-ai.github.io/langgraph/tutorials/rag/langgraph_crag/)\n",
        "- [Self](https://langchain-ai.github.io/langgraph/tutorials/rag/langgraph_self_rag/)\n",
        "- [Graph](https://microsoft.github.io/graphrag/)\n",
        "- ...\n",
        "\n",
        "Porém, com essa base vocês podem explorar e entender melhor esses outros tipos de RAG e porque eles foram criados e quais problemas eles resolvem."
      ]
    },
    {
      "cell_type": "markdown",
      "metadata": {},
      "source": [
        "### Links\n",
        "\n",
        "Providers:\n",
        "- [OpenAI](https://openai.com/)\n",
        "- [Anthropic](https://www.anthropic.com/)\n",
        "- [Sabiá](https://www.maritaca.ai/)\n",
        "- [Amazon Bedrock](https://aws.amazon.com/bedrock/)\n",
        "- [Azure ML](https://azure.microsoft.com/pt-br/products/machine-learning/generative-ai)\n",
        "- [Google AI](https://ai.google.dev/)\n",
        "\n",
        "Self-hosting:\n",
        "- [Ollama](https://ollama.com/)\n",
        "- [vLLM](https://docs.vllm.ai/en/latest/getting_started/quickstart.html)\n",
        "- [llama.cpp](https://github.com/ggerganov/llama.cpp)\n",
        "\n",
        "Frameworks:\n",
        "- [LangChain](https://www.langchain.com/)\n",
        "- [LlamaIndex](https://www.llamaindex.ai/)\n",
        "- [CrewAI](https://www.crewai.com/)\n",
        "- [AutoGen](https://microsoft.github.io/autogen)\n",
        "\n",
        "Vector Databases:\n",
        "- [Qdrant](https://qdrant.tech/)\n",
        "- [Weaviate](https://weaviate.io/)\n",
        "- [Chroma](https://www.trychroma.com/)\n",
        "- [Milvus](https://milvus.io/)\n",
        "- [Faiss](https://faiss.ai/)\n",
        "- [Pinecone](https://www.pinecone.io/)\n",
        "- [Astra](https://www.datastax.com/products/datastax-astra)\n",
        "\n",
        "Prompt Engineering:\n",
        "- [Prompting Guide](https://www.promptingguide.ai/techniques)\n",
        "- [ChatGPT Prompt Engineering for Developers](https://learn.deeplearning.ai/courses/chatgpt-prompt-eng)\n",
        "\n",
        "Observability:\n",
        "- [LangFuse](https://langfuse.com/)\n",
        "- [LangSmith](https://www.langchain.com/langsmith)\n",
        "- [LiteralAI](https://literalai.com/)\n",
        "- [Opik](https://www.comet.com/site/products/opik/)\n",
        "- [OpenLLMetry](https://www.traceloop.com/openllmetry)\n",
        "- [LlamaTrace/Phoenix](https://phoenix.arize.com/llamatrace/)"
      ]
    },
    {
      "cell_type": "markdown",
      "metadata": {},
      "source": [
        "# OBRIGADO!"
      ]
    }
  ],
  "metadata": {
    "accelerator": "GPU",
    "colab": {
      "gpuType": "T4",
      "provenance": [],
      "toc_visible": true
    },
    "kernelspec": {
      "display_name": ".venv",
      "language": "python",
      "name": "python3"
    },
    "language_info": {
      "codemirror_mode": {
        "name": "ipython",
        "version": 3
      },
      "file_extension": ".py",
      "mimetype": "text/x-python",
      "name": "python",
      "nbconvert_exporter": "python",
      "pygments_lexer": "ipython3",
      "version": "3.12.3"
    }
  },
  "nbformat": 4,
  "nbformat_minor": 0
}
